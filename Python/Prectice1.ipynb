{
 "cells": [
  {
   "cell_type": "code",
   "execution_count": null,
   "metadata": {},
   "outputs": [
    {
     "name": "stdout",
     "output_type": "stream",
     "text": [
      "hello, world!\n"
     ]
    }
   ],
   "source": [
    "print(\"hello, world!\")"
   ]
  },
  {
   "attachments": {},
   "cell_type": "markdown",
   "metadata": {},
   "source": [
    "> Exwcute Python Syntax"
   ]
  },
  {
   "cell_type": "code",
   "execution_count": null,
   "metadata": {},
   "outputs": [
    {
     "name": "stdout",
     "output_type": "stream",
     "text": [
      "five is greater than two!\n"
     ]
    }
   ],
   "source": [
    "if 5 > 2:\n",
    "    print(\"five is greater than two!\")"
   ]
  },
  {
   "cell_type": "code",
   "execution_count": null,
   "metadata": {},
   "outputs": [],
   "source": [
    "if 5 < 2:\n",
    "    print(\"five is less than two!\")"
   ]
  },
  {
   "cell_type": "code",
   "execution_count": null,
   "metadata": {},
   "outputs": [
    {
     "name": "stdout",
     "output_type": "stream",
     "text": [
      "six is less than five!\n"
     ]
    }
   ],
   "source": [
    "if 5 < 6:\n",
    "    print(\"six is less than five!\")"
   ]
  },
  {
   "cell_type": "code",
   "execution_count": null,
   "metadata": {},
   "outputs": [
    {
     "ename": "IndentationError",
     "evalue": "expected an indented block after 'if' statement on line 1 (2485897201.py, line 2)",
     "output_type": "error",
     "traceback": [
      "\u001b[1;36m  Cell \u001b[1;32mIn[6], line 2\u001b[1;36m\u001b[0m\n\u001b[1;33m    print(\"five is greater than two\")\u001b[0m\n\u001b[1;37m    ^\u001b[0m\n\u001b[1;31mIndentationError\u001b[0m\u001b[1;31m:\u001b[0m expected an indented block after 'if' statement on line 1\n"
     ]
    }
   ],
   "source": [
    "if 5 > 2:\n",
    "print(\"five is greater than two\")"
   ]
  },
  {
   "cell_type": "code",
   "execution_count": null,
   "metadata": {},
   "outputs": [
    {
     "name": "stdout",
     "output_type": "stream",
     "text": [
      "five is greater than two\n",
      "five is greater than two\n"
     ]
    }
   ],
   "source": [
    "if 5 > 2:\n",
    "  print(\"five is greater than two\")\n",
    "if 5 > 2:\n",
    "        print(\"five is greater than two\")    "
   ]
  },
  {
   "cell_type": "code",
   "execution_count": null,
   "metadata": {},
   "outputs": [
    {
     "ename": "IndentationError",
     "evalue": "unexpected indent (4171000324.py, line 3)",
     "output_type": "error",
     "traceback": [
      "\u001b[1;36m  Cell \u001b[1;32mIn[9], line 3\u001b[1;36m\u001b[0m\n\u001b[1;33m    print(\"five is greater than two\")\u001b[0m\n\u001b[1;37m    ^\u001b[0m\n\u001b[1;31mIndentationError\u001b[0m\u001b[1;31m:\u001b[0m unexpected indent\n"
     ]
    }
   ],
   "source": [
    "if 5 > 2:\n",
    " print(\"five is greater than two\")   \n",
    "        print(\"five is greater than two\")"
   ]
  },
  {
   "attachments": {},
   "cell_type": "markdown",
   "metadata": {},
   "source": [
    "* Python Variables"
   ]
  },
  {
   "cell_type": "code",
   "execution_count": null,
   "metadata": {},
   "outputs": [
    {
     "name": "stdout",
     "output_type": "stream",
     "text": [
      "5\n",
      "hello, world!\n"
     ]
    }
   ],
   "source": [
    "x = 5\n",
    "y = \"hello, world!\"\n",
    "\n",
    "print(x)\n",
    "print(y)"
   ]
  },
  {
   "attachments": {},
   "cell_type": "markdown",
   "metadata": {},
   "source": [
    "> Creating a Comments"
   ]
  },
  {
   "cell_type": "code",
   "execution_count": null,
   "metadata": {},
   "outputs": [
    {
     "name": "stdout",
     "output_type": "stream",
     "text": [
      "hello, world!\n"
     ]
    }
   ],
   "source": [
    "# This is a comment\n",
    "print(\"hello, world!\")"
   ]
  },
  {
   "cell_type": "code",
   "execution_count": null,
   "metadata": {},
   "outputs": [
    {
     "name": "stdout",
     "output_type": "stream",
     "text": [
      "hello, world!\n"
     ]
    }
   ],
   "source": [
    "\"\"\"\n",
    "This is a comment\n",
    "written in\n",
    "more than just one line\n",
    "\"\"\"\n",
    "print(\"hello, world!\")"
   ]
  },
  {
   "attachments": {},
   "cell_type": "markdown",
   "metadata": {},
   "source": [
    "> Python Variables"
   ]
  },
  {
   "cell_type": "code",
   "execution_count": null,
   "metadata": {},
   "outputs": [
    {
     "name": "stdout",
     "output_type": "stream",
     "text": [
      "5\n",
      "Dhrumil\n"
     ]
    }
   ],
   "source": [
    "x = 5\n",
    "y = \"Dhrumil\"\n",
    "print(x)\n",
    "print(y)"
   ]
  },
  {
   "cell_type": "code",
   "execution_count": null,
   "metadata": {},
   "outputs": [
    {
     "name": "stdout",
     "output_type": "stream",
     "text": [
      "Jeel\n"
     ]
    }
   ],
   "source": [
    "x = 4      #x is of type int\n",
    "x = \"Jeel\" #x is now of type str\n",
    "print(x)"
   ]
  },
  {
   "cell_type": "code",
   "execution_count": null,
   "metadata": {},
   "outputs": [
    {
     "name": "stdout",
     "output_type": "stream",
     "text": [
      "3\n",
      "3\n",
      "3.0\n"
     ]
    }
   ],
   "source": [
    "x = str(3)     #x will be \"3\"\n",
    "y = int(3)     #x will be 3\n",
    "z = float(3)   #x will be 3.0\n",
    "\n",
    "print(x)\n",
    "print(y)\n",
    "print(z)"
   ]
  },
  {
   "attachments": {},
   "cell_type": "markdown",
   "metadata": {},
   "source": [
    "* Get the Type"
   ]
  },
  {
   "cell_type": "code",
   "execution_count": null,
   "metadata": {},
   "outputs": [
    {
     "name": "stdout",
     "output_type": "stream",
     "text": [
      "<class 'int'>\n",
      "<class 'str'>\n"
     ]
    }
   ],
   "source": [
    "x = 5\n",
    "y = \"Dhru\"\n",
    "\n",
    "print(type(x))\n",
    "print(type(y))"
   ]
  },
  {
   "attachments": {},
   "cell_type": "markdown",
   "metadata": {},
   "source": [
    "* Double quotes are the same as single quotes"
   ]
  },
  {
   "cell_type": "code",
   "execution_count": null,
   "metadata": {},
   "outputs": [
    {
     "name": "stdout",
     "output_type": "stream",
     "text": [
      "Dhru\n",
      "Dhru\n"
     ]
    }
   ],
   "source": [
    "x = \"Dhru\"\n",
    "print(x)\n",
    "x = 'Dhru'\n",
    "print(x)"
   ]
  },
  {
   "cell_type": "code",
   "execution_count": null,
   "metadata": {},
   "outputs": [
    {
     "name": "stdout",
     "output_type": "stream",
     "text": [
      "5\n",
      "Nike\n"
     ]
    }
   ],
   "source": [
    "# A will not overwrite a\n",
    "a = 5\n",
    "A = \"Nike\"\n",
    "\n",
    "print(a)\n",
    "print(A)"
   ]
  },
  {
   "attachments": {},
   "cell_type": "markdown",
   "metadata": {},
   "source": [
    "* Variable Names (How to type a Variable)"
   ]
  },
  {
   "cell_type": "code",
   "execution_count": null,
   "metadata": {},
   "outputs": [
    {
     "name": "stdout",
     "output_type": "stream",
     "text": [
      "Dhru\n",
      "Dhru\n",
      "Dhru\n",
      "Dhru\n",
      "Dhru\n",
      "Dhru\n"
     ]
    }
   ],
   "source": [
    "myvar = \"Dhru\"\n",
    "my_var = \"Dhru\"\n",
    "_my_var = \"Dhru\"\n",
    "myVar = \"Dhru\"\n",
    "MYVAR = \"Dhru\"\n",
    "myvar2 = \"Dhru\"\n",
    "\n",
    "print(myvar)\n",
    "print(my_var)\n",
    "print(_my_var)\n",
    "print(myVar)\n",
    "print(MYVAR)\n",
    "print(myvar2)"
   ]
  },
  {
   "cell_type": "code",
   "execution_count": null,
   "metadata": {},
   "outputs": [
    {
     "ename": "SyntaxError",
     "evalue": "invalid decimal literal (731218861.py, line 1)",
     "output_type": "error",
     "traceback": [
      "\u001b[1;36m  Cell \u001b[1;32mIn[3], line 1\u001b[1;36m\u001b[0m\n\u001b[1;33m    2myvar = \"Dhru\"\u001b[0m\n\u001b[1;37m    ^\u001b[0m\n\u001b[1;31mSyntaxError\u001b[0m\u001b[1;31m:\u001b[0m invalid decimal literal\n"
     ]
    }
   ],
   "source": [
    "2myvar = \"Dhru\"\n",
    "my-var = \"Dhru\"\n",
    "my var = \"Dhru\""
   ]
  },
  {
   "cell_type": "code",
   "execution_count": null,
   "metadata": {},
   "outputs": [
    {
     "name": "stdout",
     "output_type": "stream",
     "text": [
      "Orange\n",
      "Banana\n",
      "Cherry\n"
     ]
    }
   ],
   "source": [
    "# Assign Multiple values\n",
    "x, y, z = \"Orange\", \"Banana\", \"Cherry\"\n",
    "print(x)\n",
    "print(y)\n",
    "print(z)"
   ]
  },
  {
   "cell_type": "code",
   "execution_count": null,
   "metadata": {},
   "outputs": [
    {
     "name": "stdout",
     "output_type": "stream",
     "text": [
      "Orange\n",
      "Orange\n",
      "Orange\n"
     ]
    }
   ],
   "source": [
    "#One Value to Multiple Variables\n",
    "x = y = z = \"Orange\"\n",
    "print(x)\n",
    "print(y)\n",
    "print(z)"
   ]
  },
  {
   "cell_type": "code",
   "execution_count": null,
   "metadata": {},
   "outputs": [
    {
     "name": "stdout",
     "output_type": "stream",
     "text": [
      "Greade C\n"
     ]
    }
   ],
   "source": [
    "accounts = int(34)\n",
    "Maths = int(65)\n",
    "Gujarati = int(75)\n",
    "English = int(85)\n",
    "\n",
    "\n",
    "if a :\n",
    "    print(\"Greade C\")\n",
    "elif a == 45:\n",
    "    print(\"Greade C\")\n",
    "else:\n",
    "    print(\"Marks are Up than 45\")\n"
   ]
  },
  {
   "cell_type": "code",
   "execution_count": null,
   "metadata": {},
   "outputs": [
    {
     "name": "stdout",
     "output_type": "stream",
     "text": [
      "years: 1\n",
      "months: 2\n"
     ]
    }
   ],
   "source": [
    "d = int(input(\"Enter the days: \"))\n",
    "\n",
    "years = int(d / 365)\n",
    "\n",
    "month = int(d % 365) // 30\n",
    "\n",
    "print(\"years:\",years)\n",
    "print(\"months:\",month)"
   ]
  },
  {
   "cell_type": "code",
   "execution_count": null,
   "metadata": {},
   "outputs": [
    {
     "name": "stdout",
     "output_type": "stream",
     "text": [
      "days: 730\n"
     ]
    }
   ],
   "source": [
    "y = int(input(\"input the year: \"))\n",
    "\n",
    "days = int(y * 365)\n",
    "print(\"days:\",days)"
   ]
  },
  {
   "cell_type": "code",
   "execution_count": null,
   "metadata": {},
   "outputs": [
    {
     "name": "stdout",
     "output_type": "stream",
     "text": [
      "year: 2024 - is a leap year\n"
     ]
    }
   ],
   "source": [
    "year = int(input(\"Enter the year: \"))\n",
    "\n",
    "if (year % 400 == 0) and (year % 100 == 0):\n",
    "    print(f\"year: {year} - is a leap year\")\n",
    "elif (year % 4 == 0):\n",
    "    print(f\"year: {year} - is a leap year\")\n",
    "else:\n",
    "    print(f\"year: {year} - is not a leap year\")"
   ]
  },
  {
   "cell_type": "code",
   "execution_count": null,
   "metadata": {},
   "outputs": [
    {
     "name": "stdout",
     "output_type": "stream",
     "text": [
      "Num 1= 500 Is Greatest\n"
     ]
    }
   ],
   "source": [
    "a = int(input(\"enter num 1: \"))\n",
    "b = int(input(\"enter num 2: \"))\n",
    "c = int(input(\"enter num 3: \"))\n",
    "\n",
    "if (a > b and a > c):\n",
    "    print(f\"Num 1= {a} Is Greatest\")\n",
    "elif(b > a and b > c):\n",
    "    print(f\"Num 2= {b} Is Greatest\")\n",
    "elif(c > b and c > a):\n",
    "    print(f\"Num 3= {c} Is Greatest\")\n",
    "else:\n",
    "    print(\"All numbers are same\")"
   ]
  },
  {
   "cell_type": "code",
   "execution_count": null,
   "metadata": {},
   "outputs": [
    {
     "name": "stdout",
     "output_type": "stream",
     "text": [
      "You have Successfully pass the exam\n"
     ]
    }
   ],
   "source": [
    "m1 = int(input(\"Enter marks of exam 1: \"))\n",
    "\n",
    "if (m1 >= 40):\n",
    "    m2 = int(input(\"Enter marks of exam 2: \"))\n",
    "    if (m2 >= 40):\n",
    "        m3 = int(input(\"Enter marks of exam 3: \"))\n",
    "        if (m3 >= 40):\n",
    "            m4 = int(input(\"Enter marks of exam 4: \"))\n",
    "            if (m4 >=55):\n",
    "                print(\"You have Successfully pass the exam\")\n",
    "            else:\n",
    "                print(\"Failed\")\n",
    "        else:\n",
    "            print(\"Failed\")    \n",
    "    else:\n",
    "        print(\"Failed\")\n",
    "else:\n",
    "    print(\"Failed\")"
   ]
  },
  {
   "cell_type": "code",
   "execution_count": 4,
   "metadata": {},
   "outputs": [
    {
     "name": "stdout",
     "output_type": "stream",
     "text": [
      "Failed\n"
     ]
    }
   ],
   "source": [
    "n1 = int(input(\"Enter marks of exam 1: \"))\n",
    "\n",
    "if (n1 >= 40):\n",
    "    n2 = int(input(\"Enter marks of exam 2: \"))\n",
    "    if (n2 >= 40):\n",
    "        n3 = int(input(\"Enter marks of exam 3: \"))\n",
    "        if (n3 >= 40):\n",
    "            n4 = int(input(\"Enter marks of exam 4: \"))\n",
    "            if (n4 >= 55):\n",
    "                print(\"You have successfully pass the exam\")\n",
    "        else:\n",
    "            print(\"Failed\")\n",
    "    else:\n",
    "        print(\"Failed\")\n",
    "else:\n",
    "    print(\"Failed\")"
   ]
  },
  {
   "cell_type": "code",
   "execution_count": null,
   "metadata": {},
   "outputs": [
    {
     "name": "stdout",
     "output_type": "stream",
     "text": [
      "percentage:  83.8\n",
      "A Grade\n"
     ]
    }
   ],
   "source": [
    "s1 = int(input(\"Enter marks 1: \"))\n",
    "s2 = int(input(\"Enter marks 2: \"))\n",
    "s3 = int(input(\"Enter marks 3: \"))\n",
    "s4 = int(input(\"Enter marks 4: \"))\n",
    "s5 = int(input(\"Enter marks 5: \"))\n",
    "\n",
    "per = ((s1+s2+s3+s4+s5)*100)/500\n",
    "\n",
    "print(\"percentage: \",per)\n",
    "\n",
    "if (per >= 40 and per <=60):\n",
    "    print(\"C grade\")\n",
    "elif (per >= 61 and per <= 80):\n",
    "    print(\"B Grade\")\n",
    "elif (per >= 81 and per <= 100):\n",
    "    print(\"A Grade\")\n",
    "else:\n",
    "    print(\"Failed\")"
   ]
  },
  {
   "cell_type": "code",
   "execution_count": null,
   "metadata": {},
   "outputs": [
    {
     "name": "stdout",
     "output_type": "stream",
     "text": [
      "Bye\n"
     ]
    }
   ],
   "source": [
    "num = int(input(\"Enter age: \"))\n",
    "\n",
    "if num % 5 == 0:\n",
    "    print(\"Hello\")\n",
    "else:\n",
    "    print(\"Bye\")\n"
   ]
  },
  {
   "cell_type": "code",
   "execution_count": null,
   "metadata": {},
   "outputs": [
    {
     "name": "stdout",
     "output_type": "stream",
     "text": [
      "Even Number\n"
     ]
    }
   ],
   "source": [
    "num = int(input(\"Enter a num: \"))\n",
    "\n",
    "if num % 2 == 0:\n",
    "    print(\"Even Number\")\n",
    "else:\n",
    "    print(\"Odd Number\")\n"
   ]
  },
  {
   "cell_type": "code",
   "execution_count": null,
   "metadata": {},
   "outputs": [
    {
     "name": "stdout",
     "output_type": "stream",
     "text": [
      "Num 2= 70 Is Largest\n"
     ]
    }
   ],
   "source": [
    "a = int(input(\"Enter num 1: \"))\n",
    "b = int(input(\"Enter num 2: \"))\n",
    "c = int(input(\"Enter num 3: \"))\n",
    "\n",
    "if (a > b and a > c):\n",
    "    print(f\"Num 1= {a} Is Largest\")\n",
    "elif (b > a and b > c):\n",
    "    print(f\"Num 2= {b} Is Largest\")\n",
    "elif (c > a and c > b):\n",
    "    print(f\"Num 3= {c} Is Largest\")\n",
    "else:\n",
    "    print(\"All numbers are same\")"
   ]
  },
  {
   "cell_type": "code",
   "execution_count": null,
   "metadata": {},
   "outputs": [
    {
     "name": "stdout",
     "output_type": "stream",
     "text": [
      "B is largest\n"
     ]
    }
   ],
   "source": [
    "a = int(input(\"Enter num 1: \"))\n",
    "b = int(input(\"Enter num 2: \"))\n",
    "c = int(input(\"Enter num 3: \"))\n",
    "\n",
    "if a>b:\n",
    "    if a>c:\n",
    "        print(\"A is largest\")\n",
    "    else:\n",
    "        print(\"C is largest\")\n",
    "else:\n",
    "    if b>c:\n",
    "        print(\"B is largest\")\n",
    "    else:\n",
    "        print(\"C is largest\")"
   ]
  },
  {
   "cell_type": "code",
   "execution_count": null,
   "metadata": {},
   "outputs": [
    {
     "name": "stdout",
     "output_type": "stream",
     "text": [
      "Num 2= 10 is smallest\n"
     ]
    }
   ],
   "source": [
    "a = int(input(\"Enter num 1: \"))\n",
    "b = int(input(\"Enter num 2: \"))\n",
    "c = int(input(\"Enter num 3: \"))\n",
    "\n",
    "if a < b:\n",
    "    if a < c:\n",
    "        print(f\"Num 1= {a} is smallest\")\n",
    "    else:\n",
    "        print(f\"Num 3= {c} is smallest\")\n",
    "else:\n",
    "    if b < c:\n",
    "        print(f\"Num 2= {b} is smallest\")\n",
    "    else:\n",
    "        print(f\"Num 3= {c} is smallest\")"
   ]
  },
  {
   "cell_type": "code",
   "execution_count": null,
   "metadata": {},
   "outputs": [
    {
     "name": "stdout",
     "output_type": "stream",
     "text": [
      "Hello\n",
      "Hello\n",
      "Hello\n",
      "Hello\n",
      "Hello\n",
      "Hello\n",
      "Hello\n",
      "Hello\n",
      "Hello\n",
      "Hello\n"
     ]
    }
   ],
   "source": [
    "for i in range(1,11):\n",
    "    print(\"Hello\")"
   ]
  },
  {
   "cell_type": "code",
   "execution_count": null,
   "metadata": {},
   "outputs": [
    {
     "name": "stdout",
     "output_type": "stream",
     "text": [
      "1 ) Hello\n",
      "2 ) Hello\n",
      "3 ) Hello\n",
      "4 ) Hello\n",
      "5 ) Hello\n",
      "6 ) Hello\n",
      "7 ) Hello\n",
      "8 ) Hello\n",
      "9 ) Hello\n",
      "10 ) Hello\n"
     ]
    }
   ],
   "source": [
    "for i in range(1,11):\n",
    "    print(i,\")\",\"Hello\")"
   ]
  },
  {
   "cell_type": "code",
   "execution_count": null,
   "metadata": {},
   "outputs": [
    {
     "name": "stdout",
     "output_type": "stream",
     "text": [
      "Tital used tiles:  98\n",
      "Left over tiles:  4\n"
     ]
    }
   ],
   "source": [
    "print(\"Tital used tiles: \",9*7 + 7*5)\n",
    "\n",
    "print(\"Left over tiles: \", 17*6 - (7*9 + 7*5))\n"
   ]
  },
  {
   "cell_type": "code",
   "execution_count": null,
   "metadata": {},
   "outputs": [
    {
     "name": "stdout",
     "output_type": "stream",
     "text": [
      "Average monthly electricity over the three months:  39.666666666666664\n"
     ]
    }
   ],
   "source": [
    "print(\"Average monthly electricity over the three months: \", (23 + 32 + 64)/3)"
   ]
  },
  {
   "cell_type": "code",
   "execution_count": null,
   "metadata": {},
   "outputs": [
    {
     "name": "stdout",
     "output_type": "stream",
     "text": [
      "5 * 1 = 5\n",
      "5 * 2 = 10\n",
      "5 * 3 = 15\n",
      "5 * 4 = 20\n",
      "5 * 5 = 25\n",
      "5 * 6 = 30\n",
      "5 * 7 = 35\n",
      "5 * 8 = 40\n",
      "5 * 9 = 45\n",
      "5 * 10 = 50\n"
     ]
    }
   ],
   "source": [
    "a = int(input(\"Enter num:\"))\n",
    "\n",
    "for i in range(1,11):\n",
    "    print(f\"{a} * {i} = {a*i}\")"
   ]
  },
  {
   "cell_type": "code",
   "execution_count": null,
   "metadata": {},
   "outputs": [
    {
     "name": "stdout",
     "output_type": "stream",
     "text": [
      "Even numbers in the list: 6\n",
      "Odd numbers in the list: 4\n",
      "Sum of even & odd numbers: 10\n"
     ]
    }
   ],
   "source": [
    "list1 = [12,15,18,23,54,55,98,63,100,86]\n",
    "\n",
    "even_n,odd_n = 0,0\n",
    "\n",
    "for num in list1:\n",
    "\n",
    "    if num % 2 == 0:\n",
    "        even_n += 1\n",
    "    else:\n",
    "        odd_n += 1\n",
    "\n",
    "print(\"Even numbers in the list:\",even_n)\n",
    "print(\"Odd numbers in the list:\", odd_n)\n",
    "\n",
    "print(\"Sum of even & odd numbers:\",even_n + odd_n)"
   ]
  },
  {
   "cell_type": "code",
   "execution_count": null,
   "metadata": {},
   "outputs": [
    {
     "name": "stdout",
     "output_type": "stream",
     "text": [
      "the 98.0 degree fehrenheit is equal to :36.0 celsius\n"
     ]
    }
   ],
   "source": [
    "Fahrenheit = float(input(\"Enter value in degree fahrenheit:\"))\n",
    "\n",
    "celsius = (Fahrenheit - 32) // 1.8\n",
    "\n",
    "print(f\"the {Fahrenheit} degree fehrenheit is equal to :{celsius} celsius\")"
   ]
  },
  {
   "cell_type": "code",
   "execution_count": null,
   "metadata": {},
   "outputs": [
    {
     "name": "stdout",
     "output_type": "stream",
     "text": [
      "the 98.0 degree fehrenheit is equal to :36.0 celsius\n"
     ]
    }
   ],
   "source": [
    "Fahrenheit = float(input(\"Enter value in degree fahrenheit:\"))\n",
    "\n",
    "celsius = (Fahrenheit - 32) * 5//9\n",
    "\n",
    "print(f\"the {Fahrenheit} degree fehrenheit is equal to :{celsius} celsius\")"
   ]
  },
  {
   "cell_type": "code",
   "execution_count": null,
   "metadata": {},
   "outputs": [
    {
     "name": "stdout",
     "output_type": "stream",
     "text": [
      "The area of a triangle using 10.0 and 34.0 = 170.0\n"
     ]
    }
   ],
   "source": [
    "base = float(input(\"Enter the base of the triangle:\"))\n",
    "height = float(input(\"Enter the height of the triangle:\"))\n",
    "\n",
    "area = (base * height) / 2\n",
    "\n",
    "print(\"The area of a triangle using\",base,\"and\",height,\"=\",area)"
   ]
  },
  {
   "cell_type": "code",
   "execution_count": null,
   "metadata": {},
   "outputs": [
    {
     "name": "stdout",
     "output_type": "stream",
     "text": [
      "length: 5.0\n",
      "breadth 10.0\n",
      "Area of rectangle:50.0 sq. units\n"
     ]
    }
   ],
   "source": [
    "length = float(input(\"Enter the wedth of the rectangle:\"))\n",
    "breadth = float(input(\"Enter the breadth of the rectangle:\"))\n",
    "\n",
    "area = length * breadth\n",
    "\n",
    "print(\"length:\",length)\n",
    "print(\"breadth\",breadth)\n",
    "print(f\"Area of rectangle:{area} sq. units\")"
   ]
  },
  {
   "cell_type": "code",
   "execution_count": null,
   "metadata": {},
   "outputs": [
    {
     "name": "stdout",
     "output_type": "stream",
     "text": [
      "The area of the circle with radius: 1.1 is 3.8013271108436504\n"
     ]
    }
   ],
   "source": [
    "from math import pi\n",
    "\n",
    "r = float(input(\"Enter the radius of the circle:\"))\n",
    "\n",
    "area = (pi * r ** 2)\n",
    "\n",
    "print(\"The area of the circle with radius:\",r, \"is\", area)"
   ]
  },
  {
   "attachments": {},
   "cell_type": "markdown",
   "metadata": {},
   "source": [
    "* While Loop"
   ]
  },
  {
   "cell_type": "code",
   "execution_count": null,
   "metadata": {},
   "outputs": [
    {
     "name": "stdout",
     "output_type": "stream",
     "text": [
      "1\n",
      "2\n",
      "3\n",
      "4\n",
      "5\n",
      "6\n",
      "7\n",
      "8\n",
      "9\n",
      "10\n"
     ]
    }
   ],
   "source": [
    "a = 1\n",
    "\n",
    "while a <= 10:\n",
    "    print(a)\n",
    "    a+=1"
   ]
  },
  {
   "cell_type": "code",
   "execution_count": null,
   "metadata": {},
   "outputs": [
    {
     "name": "stdout",
     "output_type": "stream",
     "text": [
      "1\n",
      "2\n",
      "3\n",
      "4\n",
      "5\n",
      "6\n",
      "7\n",
      "8\n",
      "9\n",
      "10\n",
      "11\n",
      "12\n"
     ]
    }
   ],
   "source": [
    "num = int(input(\"Enter number:\"))\n",
    "i=1\n",
    "\n",
    "while i <= num:\n",
    "    print(i)\n",
    "    i+=1"
   ]
  },
  {
   "cell_type": "code",
   "execution_count": 1,
   "metadata": {},
   "outputs": [
    {
     "name": "stdout",
     "output_type": "stream",
     "text": [
      "Apple\n",
      "Banana\n",
      "Mango\n"
     ]
    }
   ],
   "source": [
    "fruits = [\"Apple\", \"Banana\", \"Mango\"]\n",
    "x,y,z = fruits\n",
    "\n",
    "print(x)\n",
    "print(y)\n",
    "print(z)"
   ]
  },
  {
   "cell_type": "code",
   "execution_count": 4,
   "metadata": {},
   "outputs": [
    {
     "name": "stdout",
     "output_type": "stream",
     "text": [
      "python is Awesome\n"
     ]
    }
   ],
   "source": [
    "x = \"python\"\n",
    "y = \"is\"\n",
    "z = \"Awesome\"\n",
    "\n",
    "print(x,y,z)"
   ]
  },
  {
   "cell_type": "code",
   "execution_count": 7,
   "metadata": {},
   "outputs": [
    {
     "name": "stdout",
     "output_type": "stream",
     "text": [
      "python is Awesome\n"
     ]
    }
   ],
   "source": [
    "x = \"python \"\n",
    "y = \"is \"\n",
    "z = \"Awesome\"\n",
    "\n",
    "print(x + y + z)"
   ]
  },
  {
   "cell_type": "code",
   "execution_count": 9,
   "metadata": {},
   "outputs": [
    {
     "name": "stdout",
     "output_type": "stream",
     "text": [
      "7\n"
     ]
    }
   ],
   "source": [
    "x = 5\n",
    "y = 2\n",
    "\n",
    "print(x+y)"
   ]
  },
  {
   "cell_type": "code",
   "execution_count": 3,
   "metadata": {},
   "outputs": [
    {
     "name": "stdout",
     "output_type": "stream",
     "text": [
      "python is Awesome\n"
     ]
    }
   ],
   "source": [
    "x =\"Awesome\"\n",
    "\n",
    "def myfunc():\n",
    "    print(\"python is \" + x)\n",
    "\n",
    "myfunc()"
   ]
  },
  {
   "cell_type": "code",
   "execution_count": 7,
   "metadata": {},
   "outputs": [
    {
     "name": "stdout",
     "output_type": "stream",
     "text": [
      "python is fantastic\n",
      "python is Awesome\n"
     ]
    }
   ],
   "source": [
    "x = \"Awesome\"\n",
    "\n",
    "def myfunc():\n",
    "    x = \"fantastic\"\n",
    "    print(\"python is \" + x)\n",
    "\n",
    "myfunc()\n",
    "print(\"python is \" + x)"
   ]
  },
  {
   "cell_type": "code",
   "execution_count": 10,
   "metadata": {},
   "outputs": [
    {
     "name": "stdout",
     "output_type": "stream",
     "text": [
      "('dhrumil jay parth', ' jay')\n"
     ]
    }
   ],
   "source": [
    "h = \"dhrumil \"+ \"jay\" +  \" parth\" , \" jay\"\n",
    "print(h)"
   ]
  },
  {
   "cell_type": "code",
   "execution_count": 14,
   "metadata": {},
   "outputs": [
    {
     "name": "stdout",
     "output_type": "stream",
     "text": [
      "python is fantastic\n"
     ]
    }
   ],
   "source": [
    "def myfunc():\n",
    "    global x\n",
    "    x = \"fantastic\"\n",
    "\n",
    "myfunc()\n",
    "\n",
    "print(\"python is \" + x)"
   ]
  },
  {
   "cell_type": "code",
   "execution_count": 15,
   "metadata": {},
   "outputs": [
    {
     "name": "stdout",
     "output_type": "stream",
     "text": [
      "python is fantastic\n"
     ]
    }
   ],
   "source": [
    "x = \"Awesome\"\n",
    "\n",
    "def myfunc():\n",
    "    global x\n",
    "    x = \"fantastic\"\n",
    "\n",
    "myfunc()\n",
    "\n",
    "print(\"python is \" + x)"
   ]
  },
  {
   "cell_type": "code",
   "execution_count": 16,
   "metadata": {},
   "outputs": [
    {
     "name": "stdout",
     "output_type": "stream",
     "text": [
      "<class 'int'>\n"
     ]
    }
   ],
   "source": [
    "x = 5\n",
    "print(type(x))"
   ]
  },
  {
   "cell_type": "code",
   "execution_count": 18,
   "metadata": {},
   "outputs": [
    {
     "name": "stdout",
     "output_type": "stream",
     "text": [
      "{'name': 'Dhrumil', 'age': 23}\n"
     ]
    }
   ],
   "source": [
    "x = {\"name\": \"Dhrumil\", \"age\": 23}\n",
    "print(x)"
   ]
  },
  {
   "cell_type": "code",
   "execution_count": 22,
   "metadata": {},
   "outputs": [
    {
     "name": "stdout",
     "output_type": "stream",
     "text": [
      "1.0\n",
      "2\n",
      "(1+0j)\n",
      "<class 'float'>\n",
      "<class 'int'>\n",
      "<class 'complex'>\n"
     ]
    }
   ],
   "source": [
    "x = 1\n",
    "y = 2.5\n",
    "z = 2j\n",
    "\n",
    "a = float(x)\n",
    "\n",
    "b = int(y)\n",
    "\n",
    "c = complex (x)\n",
    "\n",
    "print(a)\n",
    "\n",
    "print(b)\n",
    "\n",
    "print(c)\n",
    "\n",
    "print(type(a))\n",
    "print(type(b))\n",
    "print(type(c))"
   ]
  },
  {
   "cell_type": "code",
   "execution_count": 23,
   "metadata": {},
   "outputs": [
    {
     "name": "stdout",
     "output_type": "stream",
     "text": [
      "(5+4j)\n"
     ]
    }
   ],
   "source": [
    "a = 5+4j\n",
    "print(a)"
   ]
  },
  {
   "cell_type": "code",
   "execution_count": 27,
   "metadata": {},
   "outputs": [
    {
     "name": "stdout",
     "output_type": "stream",
     "text": [
      "17\n"
     ]
    }
   ],
   "source": [
    "import random\n",
    "print(random.randrange(1,20))"
   ]
  },
  {
   "cell_type": "code",
   "execution_count": 2,
   "metadata": {},
   "outputs": [
    {
     "name": "stdout",
     "output_type": "stream",
     "text": [
      "1\n",
      "2\n",
      "3\n"
     ]
    }
   ],
   "source": [
    "x = int(1)\n",
    "y = int(2.8)\n",
    "z = int(\"3\")\n",
    "print(x)\n",
    "print(y)\n",
    "print(z)"
   ]
  },
  {
   "cell_type": "code",
   "execution_count": 3,
   "metadata": {},
   "outputs": [
    {
     "name": "stdout",
     "output_type": "stream",
     "text": [
      "1.0\n",
      "2.5\n",
      "3.0\n",
      "4.2\n"
     ]
    }
   ],
   "source": [
    "x = float(1)\n",
    "y = float(2.5)\n",
    "z = float(\"3\")\n",
    "w = float(\"4.2\")\n",
    "\n",
    "print(x)\n",
    "print(y)\n",
    "print(z)\n",
    "print(w)"
   ]
  },
  {
   "cell_type": "code",
   "execution_count": 4,
   "metadata": {},
   "outputs": [
    {
     "name": "stdout",
     "output_type": "stream",
     "text": [
      "s1\n",
      "2\n",
      "3.0\n"
     ]
    }
   ],
   "source": [
    "x = str(\"s1\")\n",
    "y = str(2)\n",
    "z = str(3.0)\n",
    "\n",
    "print(x)\n",
    "print(y)\n",
    "print(z)"
   ]
  },
  {
   "cell_type": "code",
   "execution_count": 13,
   "metadata": {},
   "outputs": [
    {
     "name": "stdout",
     "output_type": "stream",
     "text": [
      "W\n"
     ]
    }
   ],
   "source": [
    "a = \"Hello, World!\"\n",
    "print(a[7])"
   ]
  },
  {
   "cell_type": "code",
   "execution_count": 14,
   "metadata": {},
   "outputs": [
    {
     "name": "stdout",
     "output_type": "stream",
     "text": [
      "b\n",
      "a\n",
      "n\n",
      "a\n",
      "n\n",
      "a\n"
     ]
    }
   ],
   "source": [
    "for x in \"banana\":\n",
    "    print(x)"
   ]
  },
  {
   "cell_type": "code",
   "execution_count": 16,
   "metadata": {},
   "outputs": [
    {
     "name": "stdout",
     "output_type": "stream",
     "text": [
      "12\n"
     ]
    }
   ],
   "source": [
    "a = \"Hello,World!\"\n",
    "print(len(a))"
   ]
  },
  {
   "cell_type": "code",
   "execution_count": 19,
   "metadata": {},
   "outputs": [
    {
     "name": "stdout",
     "output_type": "stream",
     "text": [
      "True\n"
     ]
    }
   ],
   "source": [
    "txt = \"The best things in life are free!\"\n",
    "print(\"free\"in txt)"
   ]
  },
  {
   "cell_type": "code",
   "execution_count": 24,
   "metadata": {},
   "outputs": [
    {
     "name": "stdout",
     "output_type": "stream",
     "text": [
      "Yes, 'Free is present'\n"
     ]
    }
   ],
   "source": [
    "txt = \"The best things in life are free!\"\n",
    "if \"free\" in txt:\n",
    "    print(\"Yes, 'Free is present'\")\n",
    "else:\n",
    "    print(\"No, 'Free is not present'\")"
   ]
  },
  {
   "cell_type": "code",
   "execution_count": 32,
   "metadata": {},
   "outputs": [
    {
     "name": "stdout",
     "output_type": "stream",
     "text": [
      "True\n"
     ]
    }
   ],
   "source": [
    "txt = \"The best things in life are free!\"\n",
    "print(\"expensive\" not in txt)"
   ]
  },
  {
   "cell_type": "code",
   "execution_count": 37,
   "metadata": {},
   "outputs": [
    {
     "name": "stdout",
     "output_type": "stream",
     "text": [
      "No, 'expensive' is NOT present\n"
     ]
    }
   ],
   "source": [
    "txt = \"The best things in life are free!\"\n",
    "if \"expensive\" not in txt:\n",
    "    print(\"No, 'expensive' is NOT present\")\n",
    "else:\n",
    "    print(\"Yes, 'expensive' is present\")"
   ]
  },
  {
   "cell_type": "code",
   "execution_count": 1,
   "metadata": {},
   "outputs": [
    {
     "name": "stdout",
     "output_type": "stream",
     "text": [
      "True\n",
      "False\n",
      "False\n"
     ]
    }
   ],
   "source": [
    "print(10>9)\n",
    "print(10==8)\n",
    "print(10<8)\n"
   ]
  },
  {
   "cell_type": "code",
   "execution_count": 6,
   "metadata": {},
   "outputs": [
    {
     "name": "stdout",
     "output_type": "stream",
     "text": [
      "Hello Tony\n"
     ]
    }
   ],
   "source": [
    "input(\"What is your superhero? \")\n",
    "name = input(\"What is your superhero? \")\n",
    "print(\"Hello \" + name)"
   ]
  },
  {
   "cell_type": "code",
   "execution_count": 8,
   "metadata": {},
   "outputs": [
    {
     "name": "stdout",
     "output_type": "stream",
     "text": [
      "17\n"
     ]
    }
   ],
   "source": [
    "old_age = input(\"Enter your old age: \")\n",
    "new_age = int(old_age) + 2\n",
    "print(new_age)"
   ]
  },
  {
   "cell_type": "code",
   "execution_count": 12,
   "metadata": {},
   "outputs": [
    {
     "name": "stdout",
     "output_type": "stream",
     "text": [
      "the sum is: 5\n"
     ]
    }
   ],
   "source": [
    "first = input(\"enter first number: \")\n",
    "second = input(\"enter second number: \")\n",
    "\n",
    "sum = int(first) + int(second)\n",
    "print(\"the sum is: \" + str(sum))"
   ]
  },
  {
   "cell_type": "code",
   "execution_count": 16,
   "metadata": {},
   "outputs": [
    {
     "name": "stdout",
     "output_type": "stream",
     "text": [
      "8\n"
     ]
    }
   ],
   "source": [
    "name = \"Dhrumil Kansara\"\n",
    "print(name.find('K'))"
   ]
  },
  {
   "cell_type": "code",
   "execution_count": 18,
   "metadata": {},
   "outputs": [
    {
     "name": "stdout",
     "output_type": "stream",
     "text": [
      "Tony Ironman\n"
     ]
    }
   ],
   "source": [
    "name = \"Tony Stark\"\n",
    "print(name.replace(\"Stark\", \"Ironman\"))"
   ]
  },
  {
   "cell_type": "code",
   "execution_count": 22,
   "metadata": {},
   "outputs": [
    {
     "name": "stdout",
     "output_type": "stream",
     "text": [
      "True\n"
     ]
    }
   ],
   "source": [
    "name = \"Tony Stark\"\n",
    "print('T' in name)\n"
   ]
  },
  {
   "cell_type": "code",
   "execution_count": 37,
   "metadata": {},
   "outputs": [
    {
     "name": "stdout",
     "output_type": "stream",
     "text": [
      "4\n"
     ]
    }
   ],
   "source": [
    "print(10 % 6)"
   ]
  },
  {
   "cell_type": "code",
   "execution_count": 32,
   "metadata": {},
   "outputs": [
    {
     "name": "stdout",
     "output_type": "stream",
     "text": [
      "4\n"
     ]
    }
   ],
   "source": [
    "i = 5\n",
    "i += 2\n",
    "i -= 3\n",
    "print(i)"
   ]
  },
  {
   "cell_type": "code",
   "execution_count": 34,
   "metadata": {},
   "outputs": [
    {
     "name": "stdout",
     "output_type": "stream",
     "text": [
      "245\n"
     ]
    }
   ],
   "source": [
    "r = 2 + 3 ** 5\n",
    "print(r)"
   ]
  },
  {
   "cell_type": "code",
   "execution_count": 35,
   "metadata": {},
   "outputs": [
    {
     "name": "stdout",
     "output_type": "stream",
     "text": [
      "25\n"
     ]
    }
   ],
   "source": [
    "print(5 ** 2)"
   ]
  },
  {
   "cell_type": "code",
   "execution_count": 59,
   "metadata": {},
   "outputs": [
    {
     "name": "stdout",
     "output_type": "stream",
     "text": [
      "You are not 18\n",
      "Please wait for 2 Year\n",
      "Thank you\n"
     ]
    }
   ],
   "source": [
    "age = 16\n",
    "\n",
    "if age >= 18:\n",
    "    print(\"You are an adult\")\n",
    "    print(\"You can vote\")\n",
    "elif age < 18 and age <= 15:\n",
    "    print(\"you are in school\")\n",
    "else:\n",
    "    print(\"You are not 18\")\n",
    "    print(\"Please wait for\" ,18 - age ,\"Year\")\n",
    "print(\"Thank you\")"
   ]
  },
  {
   "cell_type": "code",
   "execution_count": 61,
   "metadata": {},
   "outputs": [
    {
     "name": "stdout",
     "output_type": "stream",
     "text": [
      "8\n"
     ]
    }
   ],
   "source": [
    "first = int(input(\"Enter first value: \"))\n",
    "operator = input(\"Enter operator(+,-,*,/,%): \")\n",
    "second = int(input(\"Enter second value: \"))\n",
    "\n",
    "if operator == \"+\":\n",
    "    print(first + second)\n",
    "elif operator == \"-\":\n",
    "    print(first - second)\n",
    "elif operator == \"*\":\n",
    "    print(first * second)\n",
    "elif operator == \"/\":\n",
    "    print(first / second)\n",
    "elif operator == \"%\":\n",
    "    print(first % second)\n",
    "else:\n",
    "    print(\"invalid operation\")"
   ]
  },
  {
   "cell_type": "code",
   "execution_count": 2,
   "metadata": {},
   "outputs": [
    {
     "name": "stdout",
     "output_type": "stream",
     "text": [
      "1\n",
      "2\n",
      "3\n",
      "4\n",
      "5\n"
     ]
    }
   ],
   "source": [
    "i = 1\n",
    "while i <= 5:\n",
    "    print(i)\n",
    "    i = i + 1"
   ]
  },
  {
   "cell_type": "code",
   "execution_count": 11,
   "metadata": {},
   "outputs": [
    {
     "name": "stdout",
     "output_type": "stream",
     "text": [
      " * \n",
      " *  * \n",
      " *  *  * \n",
      " *  *  *  * \n",
      " *  *  *  *  * \n",
      " *  *  *  * \n",
      " *  *  * \n",
      " *  * \n",
      " * \n",
      "\n"
     ]
    }
   ],
   "source": [
    "i = 1\n",
    "while i <= 5:\n",
    "    print(i * \" * \")\n",
    "    i = i + 1\n",
    "i = 4\n",
    "while i >= 0:\n",
    "    print(i * \" * \")\n",
    "    i = i - 1"
   ]
  },
  {
   "cell_type": "code",
   "execution_count": 13,
   "metadata": {},
   "outputs": [
    {
     "name": "stdout",
     "output_type": "stream",
     "text": [
      "1\n",
      "2\n",
      "3\n",
      "4\n",
      "5\n"
     ]
    }
   ],
   "source": [
    "for i in range(5):\n",
    "    print(i + 1)"
   ]
  },
  {
   "cell_type": "code",
   "execution_count": 14,
   "metadata": {},
   "outputs": [
    {
     "name": "stdout",
     "output_type": "stream",
     "text": [
      "98\n"
     ]
    }
   ],
   "source": [
    "marks = [95,98,94]\n",
    "print(marks[1])"
   ]
  },
  {
   "cell_type": "code",
   "execution_count": 15,
   "metadata": {},
   "outputs": [
    {
     "name": "stdout",
     "output_type": "stream",
     "text": [
      "95\n",
      "96\n",
      "94\n"
     ]
    }
   ],
   "source": [
    "marks = [95,96,94]\n",
    "\n",
    "for score in marks:\n",
    "    print(score)"
   ]
  },
  {
   "cell_type": "code",
   "execution_count": 16,
   "metadata": {},
   "outputs": [
    {
     "name": "stdout",
     "output_type": "stream",
     "text": [
      "[96, 99, 97, 94]\n"
     ]
    }
   ],
   "source": [
    "marks = [96,99,97]\n",
    "marks.append(94)\n",
    "print(marks)"
   ]
  },
  {
   "cell_type": "code",
   "execution_count": 19,
   "metadata": {},
   "outputs": [
    {
     "name": "stdout",
     "output_type": "stream",
     "text": [
      "True\n"
     ]
    }
   ],
   "source": [
    "marks = [96,99,97]\n",
    "marks.insert(0,94)\n",
    "print(94 in marks)"
   ]
  },
  {
   "cell_type": "code",
   "execution_count": 20,
   "metadata": {},
   "outputs": [
    {
     "name": "stdout",
     "output_type": "stream",
     "text": [
      "3\n"
     ]
    }
   ],
   "source": [
    "marks = [96,99,97]\n",
    "print(len(marks))"
   ]
  },
  {
   "cell_type": "code",
   "execution_count": 21,
   "metadata": {},
   "outputs": [
    {
     "name": "stdout",
     "output_type": "stream",
     "text": [
      "[96, 99, 97]\n"
     ]
    }
   ],
   "source": [
    "print(marks)"
   ]
  },
  {
   "cell_type": "code",
   "execution_count": 23,
   "metadata": {},
   "outputs": [
    {
     "name": "stdout",
     "output_type": "stream",
     "text": [
      "96\n",
      "99\n",
      "97\n",
      "[]\n"
     ]
    }
   ],
   "source": [
    "marks = [96,99,97]\n",
    "i = 0\n",
    "while i < len(marks):\n",
    "    print(marks[i])\n",
    "    i = i+1\n",
    "\n",
    "marks.clear()\n",
    "print(marks)"
   ]
  },
  {
   "cell_type": "code",
   "execution_count": 27,
   "metadata": {},
   "outputs": [
    {
     "name": "stdout",
     "output_type": "stream",
     "text": [
      "ram\n",
      "shyam\n",
      "kishan\n"
     ]
    }
   ],
   "source": [
    "students = [\"ram\", \"shyam\", \"kishan\", \"radha\", \"radhika\"]\n",
    "\n",
    "for student in students:\n",
    "    if student == \"radha\":\n",
    "        break;\n",
    "    print(student)    \n"
   ]
  },
  {
   "cell_type": "code",
   "execution_count": 28,
   "metadata": {},
   "outputs": [
    {
     "name": "stdout",
     "output_type": "stream",
     "text": [
      "ram\n",
      "shyam\n",
      "radha\n",
      "radhika\n"
     ]
    }
   ],
   "source": [
    "students = [\"ram\", \"shyam\", \"kishan\", \"radha\", \"radhika\"]\n",
    "\n",
    "for student in students:\n",
    "    if student == \"kishan\":\n",
    "        continue;\n",
    "    print(student)"
   ]
  },
  {
   "cell_type": "code",
   "execution_count": 33,
   "metadata": {},
   "outputs": [
    {
     "name": "stdout",
     "output_type": "stream",
     "text": [
      "2\n",
      "1\n"
     ]
    }
   ],
   "source": [
    "marks = (94,97,93,95,95)\n",
    "print(marks.count(95))\n",
    "print(marks.index(97))"
   ]
  },
  {
   "cell_type": "code",
   "execution_count": 34,
   "metadata": {},
   "outputs": [
    {
     "name": "stdout",
     "output_type": "stream",
     "text": [
      "{97, 93, 94, 95}\n"
     ]
    }
   ],
   "source": [
    "marks = {94,97,93,95,95}\n",
    "print(marks)"
   ]
  },
  {
   "cell_type": "code",
   "execution_count": 39,
   "metadata": {},
   "outputs": [
    {
     "name": "stdout",
     "output_type": "stream",
     "text": [
      "97\n",
      "{'english': 95, 'chemistry': 97, 'physics': 94}\n",
      "{'english': 95, 'chemistry': 97, 'physics': 99}\n"
     ]
    }
   ],
   "source": [
    "marks = {\"english\": 95, \"chemistry\": 97}\n",
    "print(marks[\"chemistry\"])\n",
    "\n",
    "marks[\"physics\"] = 94;\n",
    "print(marks)\n",
    "\n",
    "marks[\"physics\"] = 99;\n",
    "print(marks)"
   ]
  },
  {
   "cell_type": "code",
   "execution_count": 2,
   "metadata": {},
   "outputs": [
    {
     "name": "stdout",
     "output_type": "stream",
     "text": [
      "6\n"
     ]
    }
   ],
   "source": [
    "def pr_sum(first, second=4):\n",
    "    print(first + second)\n",
    "\n",
    "pr_sum(2)"
   ]
  },
  {
   "cell_type": "code",
   "execution_count": 4,
   "metadata": {},
   "outputs": [
    {
     "name": "stdout",
     "output_type": "stream",
     "text": [
      "12\n"
     ]
    }
   ],
   "source": [
    "x = lambda a, b:a * b\n",
    "print(x(2,6))"
   ]
  },
  {
   "cell_type": "code",
   "execution_count": 9,
   "metadata": {},
   "outputs": [
    {
     "name": "stdout",
     "output_type": "stream",
     "text": [
      "15\n"
     ]
    }
   ],
   "source": [
    "x = lambda a: a + 10\n",
    "print(x(5))"
   ]
  },
  {
   "cell_type": "code",
   "execution_count": 10,
   "metadata": {},
   "outputs": [
    {
     "name": "stdout",
     "output_type": "stream",
     "text": [
      "12\n"
     ]
    }
   ],
   "source": [
    "x = lambda a,b,c: a + b + c\n",
    "print(x(2,4,6)) "
   ]
  },
  {
   "cell_type": "code",
   "execution_count": 17,
   "metadata": {},
   "outputs": [
    {
     "name": "stdout",
     "output_type": "stream",
     "text": [
      "5\n"
     ]
    }
   ],
   "source": [
    "import random\n",
    "\n",
    "print(random.randrange(1, 10))"
   ]
  },
  {
   "cell_type": "code",
   "execution_count": 18,
   "metadata": {},
   "outputs": [
    {
     "name": "stdout",
     "output_type": "stream",
     "text": [
      "e\n"
     ]
    }
   ],
   "source": [
    "a = \"Hello, World!\"\n",
    "print(a[1])"
   ]
  },
  {
   "cell_type": "code",
   "execution_count": 19,
   "metadata": {},
   "outputs": [
    {
     "name": "stdout",
     "output_type": "stream",
     "text": [
      "b\n",
      "a\n",
      "n\n",
      "a\n",
      "n\n",
      "a\n"
     ]
    }
   ],
   "source": [
    "for x in \"banana\":\n",
    "    print(x)"
   ]
  },
  {
   "cell_type": "code",
   "execution_count": 24,
   "metadata": {},
   "outputs": [
    {
     "name": "stdout",
     "output_type": "stream",
     "text": [
      "b a n a n a "
     ]
    }
   ],
   "source": [
    "for x in \"banana\":\n",
    "    print(x, end = \" \")"
   ]
  },
  {
   "cell_type": "code",
   "execution_count": 25,
   "metadata": {},
   "outputs": [
    {
     "name": "stdout",
     "output_type": "stream",
     "text": [
      "13\n"
     ]
    }
   ],
   "source": [
    "a = \"Hello, World!\"\n",
    "print(len(a))"
   ]
  },
  {
   "cell_type": "code",
   "execution_count": 28,
   "metadata": {},
   "outputs": [
    {
     "name": "stdout",
     "output_type": "stream",
     "text": [
      "True\n"
     ]
    }
   ],
   "source": [
    "txt = \"The best things in life are free!\"\n",
    "print(\"free\" in txt)"
   ]
  },
  {
   "cell_type": "code",
   "execution_count": 5,
   "metadata": {},
   "outputs": [
    {
     "name": "stdout",
     "output_type": "stream",
     "text": [
      "world!\n"
     ]
    }
   ],
   "source": [
    "b = \"hello, world!\"\n",
    "print(b[7:])"
   ]
  },
  {
   "cell_type": "code",
   "execution_count": 10,
   "metadata": {},
   "outputs": [
    {
     "name": "stdout",
     "output_type": "stream",
     "text": [
      "orl\n"
     ]
    }
   ],
   "source": [
    "b = \"Hello, World!\"\n",
    "print(b[-5:-2])"
   ]
  },
  {
   "cell_type": "code",
   "execution_count": 11,
   "metadata": {},
   "outputs": [
    {
     "name": "stdout",
     "output_type": "stream",
     "text": [
      "llo\n"
     ]
    }
   ],
   "source": [
    "b = \"Hello, World!\"\n",
    "print(b[2:5])"
   ]
  },
  {
   "cell_type": "code",
   "execution_count": 12,
   "metadata": {},
   "outputs": [
    {
     "name": "stdout",
     "output_type": "stream",
     "text": [
      "HELLO, WORLD!\n"
     ]
    }
   ],
   "source": [
    "a = \"Hello, World!\"\n",
    "print(a.upper())"
   ]
  },
  {
   "cell_type": "code",
   "execution_count": 13,
   "metadata": {},
   "outputs": [
    {
     "name": "stdout",
     "output_type": "stream",
     "text": [
      "hello, world!\n"
     ]
    }
   ],
   "source": [
    "a = \"Hello, World!\"\n",
    "print(a.lower())"
   ]
  },
  {
   "cell_type": "code",
   "execution_count": 14,
   "metadata": {},
   "outputs": [
    {
     "name": "stdout",
     "output_type": "stream",
     "text": [
      "Hello, World!\n"
     ]
    }
   ],
   "source": [
    "a = \"   Hello, World!\"\n",
    "print(a.strip()) #Remove a white space"
   ]
  },
  {
   "cell_type": "code",
   "execution_count": 18,
   "metadata": {},
   "outputs": [
    {
     "name": "stdout",
     "output_type": "stream",
     "text": [
      "Kello, World!\n"
     ]
    }
   ],
   "source": [
    "a = \"Hello, World!\"\n",
    "print(a.replace(\"H\", \"K\"))"
   ]
  },
  {
   "cell_type": "code",
   "execution_count": 22,
   "metadata": {},
   "outputs": [
    {
     "name": "stdout",
     "output_type": "stream",
     "text": [
      "    Hello, World!\n"
     ]
    }
   ],
   "source": [
    "a = \"    Hello, World!    \"\n",
    "print(a.rstrip())"
   ]
  },
  {
   "cell_type": "code",
   "execution_count": 23,
   "metadata": {},
   "outputs": [
    {
     "name": "stdout",
     "output_type": "stream",
     "text": [
      "['Hello', ' World!']\n"
     ]
    }
   ],
   "source": [
    "a = \"Hello, World!\"\n",
    "print(a.split(\",\"))"
   ]
  },
  {
   "cell_type": "code",
   "execution_count": 25,
   "metadata": {},
   "outputs": [
    {
     "name": "stdout",
     "output_type": "stream",
     "text": [
      "Hello World\n"
     ]
    }
   ],
   "source": [
    "a = \"Hello \"\n",
    "b = \"World\"\n",
    "c = a + b\n",
    "print(c)"
   ]
  },
  {
   "cell_type": "code",
   "execution_count": 27,
   "metadata": {},
   "outputs": [
    {
     "name": "stdout",
     "output_type": "stream",
     "text": [
      "Hello World\n"
     ]
    }
   ],
   "source": [
    "a = \"Hello\"\n",
    "b = \"World\"\n",
    "c = a +\" \"+ b\n",
    "print(c)"
   ]
  },
  {
   "cell_type": "code",
   "execution_count": 43,
   "metadata": {},
   "outputs": [
    {
     "name": "stdout",
     "output_type": "stream",
     "text": [
      "The result is 600\n",
      "The result is 70\n"
     ]
    }
   ],
   "source": [
    "def multiplication_or_sum(num1, num2):\n",
    "    product = num1 * num2\n",
    "    if product <= 1000:\n",
    "        return product\n",
    "    else:\n",
    "        return num1 + num2\n",
    "    \n",
    "result = multiplication_or_sum(20, 30)\n",
    "print(\"The result is\", result)\n",
    "\n",
    "result = multiplication_or_sum(40, 30)\n",
    "print(\"The result is\", result)"
   ]
  },
  {
   "cell_type": "code",
   "execution_count": 49,
   "metadata": {},
   "outputs": [
    {
     "name": "stdout",
     "output_type": "stream",
     "text": [
      "Printing current and previous number and their sum in a range(10)\n",
      "Current Number 1 Previous Number 0 -Sum:  1\n",
      "Current Number 2 Previous Number 1 -Sum:  3\n",
      "Current Number 3 Previous Number 2 -Sum:  5\n",
      "Current Number 4 Previous Number 3 -Sum:  7\n",
      "Current Number 5 Previous Number 4 -Sum:  9\n",
      "Current Number 6 Previous Number 5 -Sum:  11\n",
      "Current Number 7 Previous Number 6 -Sum:  13\n",
      "Current Number 8 Previous Number 7 -Sum:  15\n",
      "Current Number 9 Previous Number 8 -Sum:  17\n",
      "Current Number 10 Previous Number 9 -Sum:  19\n",
      "Current Number 11 Previous Number 10 -Sum:  21\n"
     ]
    }
   ],
   "source": [
    "print(\"Printing current and previous number and their sum in a range(10)\")\n",
    "previous_num = 0\n",
    "\n",
    "for i in range(1,12):\n",
    "    x_sum = previous_num + i\n",
    "    print(\"Current Number\", i, \"Previous Number\", previous_num, \"-Sum: \", x_sum)\n",
    "    previous_num = i"
   ]
  },
  {
   "cell_type": "code",
   "execution_count": 56,
   "metadata": {},
   "outputs": [
    {
     "name": "stdout",
     "output_type": "stream",
     "text": [
      "Original string:  Dhrumil\n",
      "Printing only even index chars\n",
      "index[ 0 ] D\n",
      "index[ 2 ] r\n",
      "index[ 4 ] m\n"
     ]
    }
   ],
   "source": [
    "a = input(\"Enter Name: \")\n",
    "print(\"Original string: \", a)\n",
    "s = len(a)\n",
    "\n",
    "print(\"Printing only even index chars\")\n",
    "for i in range(0,s -1, 2):\n",
    "    print(\"index[\", i,\"]\", a[i])\n",
    "\n"
   ]
  },
  {
   "cell_type": "code",
   "execution_count": 63,
   "metadata": {},
   "outputs": [
    {
     "name": "stdout",
     "output_type": "stream",
     "text": [
      "Original String: Dhrumil\n",
      "D r m "
     ]
    }
   ],
   "source": [
    "w = input(\"Enter word: \")\n",
    "print(\"Original String:\", w)\n",
    "\n",
    "x = list(w)\n",
    "for i in x[0:-1:2]:\n",
    "    print(i, end = \" \")"
   ]
  },
  {
   "cell_type": "code",
   "execution_count": 65,
   "metadata": {},
   "outputs": [
    {
     "name": "stdout",
     "output_type": "stream",
     "text": [
      "Removing characters from a string\n",
      "Original string: Dhrumil\n",
      "mil\n",
      "Original string: Dhrumil\n",
      "rumil\n"
     ]
    }
   ],
   "source": [
    "def remove_chars(word, n):\n",
    "    print('Original string:', word)\n",
    "    x = word[n:]\n",
    "    return x\n",
    "print(\"Removing characters from a string\")\n",
    "print(remove_chars(\"Dhrumil\", 4))\n",
    "print(remove_chars(\"Dhrumil\", 2))"
   ]
  },
  {
   "cell_type": "code",
   "execution_count": 66,
   "metadata": {},
   "outputs": [
    {
     "name": "stdout",
     "output_type": "stream",
     "text": [
      "Given list: [33, 44, 55, 66, 33]\n",
      "result is True\n",
      "Given list: [75, 64, 27, 39, 34]\n",
      "result is False\n"
     ]
    }
   ],
   "source": [
    "def first_last_name(numberlist):\n",
    "    print(\"Given list:\", numberlist)\n",
    "\n",
    "    first_num = numberlist[0]\n",
    "    last_num = numberlist[-1]\n",
    "\n",
    "    if first_num == last_num:\n",
    "        return True\n",
    "    else:\n",
    "        return False\n",
    "    \n",
    "numbers_x = [33,44,55,66,33]\n",
    "print(\"result is\", first_last_name(numbers_x))\n",
    "\n",
    "\n",
    "numbers_y = [75,64,27,39,34]\n",
    "print(\"result is\", first_last_name(numbers_y))"
   ]
  },
  {
   "cell_type": "code",
   "execution_count": 71,
   "metadata": {},
   "outputs": [
    {
     "name": "stdout",
     "output_type": "stream",
     "text": [
      "Given list: [25, 80, 48, 15, 40, 98, 73, 61]\n",
      "Divisible by 5:\n",
      "25\n",
      "80\n",
      "15\n",
      "40\n"
     ]
    }
   ],
   "source": [
    "num_list = [25,80,48,15,40,98,73,61]\n",
    "print(\"Given list:\", num_list)\n",
    "print('Divisible by 5:')\n",
    "for num in num_list:\n",
    "    if num % 5 == 0:\n",
    "        print(num)"
   ]
  },
  {
   "cell_type": "code",
   "execution_count": 1,
   "metadata": {},
   "outputs": [
    {
     "name": "stdout",
     "output_type": "stream",
     "text": [
      "2\n"
     ]
    }
   ],
   "source": [
    "str_x = \"Emma is good developer. Emma is a writer\"\n",
    "cnt = str_x.count(\"Emma\")\n",
    "print(cnt)"
   ]
  },
  {
   "cell_type": "code",
   "execution_count": 2,
   "metadata": {},
   "outputs": [
    {
     "name": "stdout",
     "output_type": "stream",
     "text": [
      "Given String:  Emma is good developer. Emma is a writer\n",
      "Emma appeared  2 times\n"
     ]
    }
   ],
   "source": [
    "def count_emma(statement):\n",
    "    print(\"Given String: \", statement)\n",
    "    count = 0\n",
    "    for i in range(len(statement) -1):\n",
    "        count += statement[i: i + 4] == 'Emma'\n",
    "    return count\n",
    "\n",
    "count = count_emma(\"Emma is good developer. Emma is a writer\")\n",
    "print(\"Emma appeared \", count, \"times\")"
   ]
  },
  {
   "cell_type": "code",
   "execution_count": 6,
   "metadata": {},
   "outputs": [
    {
     "name": "stdout",
     "output_type": "stream",
     "text": [
      "\n",
      "\n",
      "1 \n",
      "\n",
      "2 2 \n",
      "\n",
      "3 3 3 \n",
      "\n",
      "4 4 4 4 \n",
      "\n",
      "5 5 5 5 5 \n",
      "\n",
      "6 6 6 6 6 6 \n",
      "\n",
      "7 7 7 7 7 7 7 \n",
      "\n",
      "8 8 8 8 8 8 8 8 \n",
      "\n",
      "9 9 9 9 9 9 9 9 9 \n",
      "\n"
     ]
    }
   ],
   "source": [
    "for num in range(10):\n",
    "    for i in range(num):\n",
    "        print(num, end= \" \")\n",
    "    print(\"\\n\")"
   ]
  },
  {
   "cell_type": "code",
   "execution_count": 11,
   "metadata": {},
   "outputs": [
    {
     "name": "stdout",
     "output_type": "stream",
     "text": [
      "original number 979\n",
      "Given number palindrome\n",
      "original number 457\n",
      "Given number is not palindrome\n"
     ]
    }
   ],
   "source": [
    "def palindrome(number):\n",
    "    print(\"original number\", number)\n",
    "    original_num = number\n",
    "    reverse_num = 0\n",
    "    while number > 0:\n",
    "        reminder = number % 10\n",
    "        reverse_num = (reverse_num * 10) + reminder\n",
    "        number = number // 10\n",
    "\n",
    "    if original_num == reverse_num:\n",
    "        print(\"Given number palindrome\")\n",
    "\n",
    "    else:\n",
    "        print(\"Given number is not palindrome\")\n",
    "\n",
    "palindrome(979)\n",
    "palindrome(457)"
   ]
  },
  {
   "cell_type": "code",
   "execution_count": 14,
   "metadata": {},
   "outputs": [
    {
     "name": "stdout",
     "output_type": "stream",
     "text": [
      "result list: [25, 35, 40, 60, 90]\n"
     ]
    }
   ],
   "source": [
    "def merge_list(list1, list2):\n",
    "    result_list = []\n",
    "\n",
    "    for num in list1:\n",
    "        if num % 2 != 0:\n",
    "            result_list.append(num)\n",
    "\n",
    "    for num in list2:\n",
    "        if num % 2 == 0:\n",
    "            result_list.append(num)\n",
    "    return result_list\n",
    "list1 = [10,20,25,30,35]\n",
    "list2 = [40,45,60,75,90]\n",
    "print(\"result list:\", merge_list(list1, list2))"
   ]
  },
  {
   "cell_type": "code",
   "execution_count": null,
   "metadata": {},
   "outputs": [],
   "source": []
  }
 ],
 "metadata": {
  "kernelspec": {
   "display_name": "Python 3",
   "language": "python",
   "name": "python3"
  },
  "language_info": {
   "codemirror_mode": {
    "name": "ipython",
    "version": 3
   },
   "file_extension": ".py",
   "mimetype": "text/x-python",
   "name": "python",
   "nbconvert_exporter": "python",
   "pygments_lexer": "ipython3",
   "version": "3.11.1"
  },
  "orig_nbformat": 4,
  "vscode": {
   "interpreter": {
    "hash": "6a50e9a017e9a7fbc47d6ba3bbf6c358afe4d19f2ce04f649d25da660f786838"
   }
  }
 },
 "nbformat": 4,
 "nbformat_minor": 2
}
