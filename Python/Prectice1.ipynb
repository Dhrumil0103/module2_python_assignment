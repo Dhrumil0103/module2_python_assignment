{
 "cells": [
  {
   "cell_type": "code",
   "execution_count": null,
   "metadata": {},
   "outputs": [
    {
     "name": "stdout",
     "output_type": "stream",
     "text": [
      "hello, world!\n"
     ]
    }
   ],
   "source": [
    "print(\"hello, world!\")"
   ]
  },
  {
   "attachments": {},
   "cell_type": "markdown",
   "metadata": {},
   "source": [
    "> Exwcute Python Syntax"
   ]
  },
  {
   "cell_type": "code",
   "execution_count": null,
   "metadata": {},
   "outputs": [
    {
     "name": "stdout",
     "output_type": "stream",
     "text": [
      "five is greater than two!\n"
     ]
    }
   ],
   "source": [
    "if 5 > 2:\n",
    "    print(\"five is greater than two!\")"
   ]
  },
  {
   "cell_type": "code",
   "execution_count": null,
   "metadata": {},
   "outputs": [],
   "source": [
    "if 5 < 2:\n",
    "    print(\"five is less than two!\")"
   ]
  },
  {
   "cell_type": "code",
   "execution_count": null,
   "metadata": {},
   "outputs": [
    {
     "name": "stdout",
     "output_type": "stream",
     "text": [
      "six is less than five!\n"
     ]
    }
   ],
   "source": [
    "if 5 < 6:\n",
    "    print(\"six is less than five!\")"
   ]
  },
  {
   "cell_type": "code",
   "execution_count": null,
   "metadata": {},
   "outputs": [
    {
     "ename": "IndentationError",
     "evalue": "expected an indented block after 'if' statement on line 1 (2485897201.py, line 2)",
     "output_type": "error",
     "traceback": [
      "\u001b[1;36m  Cell \u001b[1;32mIn[6], line 2\u001b[1;36m\u001b[0m\n\u001b[1;33m    print(\"five is greater than two\")\u001b[0m\n\u001b[1;37m    ^\u001b[0m\n\u001b[1;31mIndentationError\u001b[0m\u001b[1;31m:\u001b[0m expected an indented block after 'if' statement on line 1\n"
     ]
    }
   ],
   "source": [
    "if 5 > 2:\n",
    "print(\"five is greater than two\")"
   ]
  },
  {
   "cell_type": "code",
   "execution_count": null,
   "metadata": {},
   "outputs": [
    {
     "name": "stdout",
     "output_type": "stream",
     "text": [
      "five is greater than two\n",
      "five is greater than two\n"
     ]
    }
   ],
   "source": [
    "if 5 > 2:\n",
    "  print(\"five is greater than two\")\n",
    "if 5 > 2:\n",
    "        print(\"five is greater than two\")    "
   ]
  },
  {
   "cell_type": "code",
   "execution_count": null,
   "metadata": {},
   "outputs": [
    {
     "ename": "IndentationError",
     "evalue": "unexpected indent (4171000324.py, line 3)",
     "output_type": "error",
     "traceback": [
      "\u001b[1;36m  Cell \u001b[1;32mIn[9], line 3\u001b[1;36m\u001b[0m\n\u001b[1;33m    print(\"five is greater than two\")\u001b[0m\n\u001b[1;37m    ^\u001b[0m\n\u001b[1;31mIndentationError\u001b[0m\u001b[1;31m:\u001b[0m unexpected indent\n"
     ]
    }
   ],
   "source": [
    "if 5 > 2:\n",
    " print(\"five is greater than two\")   \n",
    "        print(\"five is greater than two\")"
   ]
  },
  {
   "attachments": {},
   "cell_type": "markdown",
   "metadata": {},
   "source": [
    "* Python Variables"
   ]
  },
  {
   "cell_type": "code",
   "execution_count": null,
   "metadata": {},
   "outputs": [
    {
     "name": "stdout",
     "output_type": "stream",
     "text": [
      "5\n",
      "hello, world!\n"
     ]
    }
   ],
   "source": [
    "x = 5\n",
    "y = \"hello, world!\"\n",
    "\n",
    "print(x)\n",
    "print(y)"
   ]
  },
  {
   "attachments": {},
   "cell_type": "markdown",
   "metadata": {},
   "source": [
    "> Creating a Comments"
   ]
  },
  {
   "cell_type": "code",
   "execution_count": null,
   "metadata": {},
   "outputs": [
    {
     "name": "stdout",
     "output_type": "stream",
     "text": [
      "hello, world!\n"
     ]
    }
   ],
   "source": [
    "# This is a comment\n",
    "print(\"hello, world!\")"
   ]
  },
  {
   "cell_type": "code",
   "execution_count": null,
   "metadata": {},
   "outputs": [
    {
     "name": "stdout",
     "output_type": "stream",
     "text": [
      "hello, world!\n"
     ]
    }
   ],
   "source": [
    "\"\"\"\n",
    "This is a comment\n",
    "written in\n",
    "more than just one line\n",
    "\"\"\"\n",
    "print(\"hello, world!\")"
   ]
  },
  {
   "attachments": {},
   "cell_type": "markdown",
   "metadata": {},
   "source": [
    "> Python Variables"
   ]
  },
  {
   "cell_type": "code",
   "execution_count": null,
   "metadata": {},
   "outputs": [
    {
     "name": "stdout",
     "output_type": "stream",
     "text": [
      "5\n",
      "Dhrumil\n"
     ]
    }
   ],
   "source": [
    "x = 5\n",
    "y = \"Dhrumil\"\n",
    "print(x)\n",
    "print(y)"
   ]
  },
  {
   "cell_type": "code",
   "execution_count": null,
   "metadata": {},
   "outputs": [
    {
     "name": "stdout",
     "output_type": "stream",
     "text": [
      "Jeel\n"
     ]
    }
   ],
   "source": [
    "x = 4      #x is of type int\n",
    "x = \"Jeel\" #x is now of type str\n",
    "print(x)"
   ]
  },
  {
   "cell_type": "code",
   "execution_count": null,
   "metadata": {},
   "outputs": [
    {
     "name": "stdout",
     "output_type": "stream",
     "text": [
      "3\n",
      "3\n",
      "3.0\n"
     ]
    }
   ],
   "source": [
    "x = str(3)     #x will be \"3\"\n",
    "y = int(3)     #x will be 3\n",
    "z = float(3)   #x will be 3.0\n",
    "\n",
    "print(x)\n",
    "print(y)\n",
    "print(z)"
   ]
  },
  {
   "attachments": {},
   "cell_type": "markdown",
   "metadata": {},
   "source": [
    "* Get the Type"
   ]
  },
  {
   "cell_type": "code",
   "execution_count": null,
   "metadata": {},
   "outputs": [
    {
     "name": "stdout",
     "output_type": "stream",
     "text": [
      "<class 'int'>\n",
      "<class 'str'>\n"
     ]
    }
   ],
   "source": [
    "x = 5\n",
    "y = \"Dhru\"\n",
    "\n",
    "print(type(x))\n",
    "print(type(y))"
   ]
  },
  {
   "attachments": {},
   "cell_type": "markdown",
   "metadata": {},
   "source": [
    "* Double quotes are the same as single quotes"
   ]
  },
  {
   "cell_type": "code",
   "execution_count": null,
   "metadata": {},
   "outputs": [
    {
     "name": "stdout",
     "output_type": "stream",
     "text": [
      "Dhru\n",
      "Dhru\n"
     ]
    }
   ],
   "source": [
    "x = \"Dhru\"\n",
    "print(x)\n",
    "x = 'Dhru'\n",
    "print(x)"
   ]
  },
  {
   "cell_type": "code",
   "execution_count": null,
   "metadata": {},
   "outputs": [
    {
     "name": "stdout",
     "output_type": "stream",
     "text": [
      "5\n",
      "Nike\n"
     ]
    }
   ],
   "source": [
    "# A will not overwrite a\n",
    "a = 5\n",
    "A = \"Nike\"\n",
    "\n",
    "print(a)\n",
    "print(A)"
   ]
  },
  {
   "attachments": {},
   "cell_type": "markdown",
   "metadata": {},
   "source": [
    "* Variable Names (How to type a Variable)"
   ]
  },
  {
   "cell_type": "code",
   "execution_count": null,
   "metadata": {},
   "outputs": [
    {
     "name": "stdout",
     "output_type": "stream",
     "text": [
      "Dhru\n",
      "Dhru\n",
      "Dhru\n",
      "Dhru\n",
      "Dhru\n",
      "Dhru\n"
     ]
    }
   ],
   "source": [
    "myvar = \"Dhru\"\n",
    "my_var = \"Dhru\"\n",
    "_my_var = \"Dhru\"\n",
    "myVar = \"Dhru\"\n",
    "MYVAR = \"Dhru\"\n",
    "myvar2 = \"Dhru\"\n",
    "\n",
    "print(myvar)\n",
    "print(my_var)\n",
    "print(_my_var)\n",
    "print(myVar)\n",
    "print(MYVAR)\n",
    "print(myvar2)"
   ]
  },
  {
   "cell_type": "code",
   "execution_count": null,
   "metadata": {},
   "outputs": [
    {
     "ename": "SyntaxError",
     "evalue": "invalid decimal literal (731218861.py, line 1)",
     "output_type": "error",
     "traceback": [
      "\u001b[1;36m  Cell \u001b[1;32mIn[3], line 1\u001b[1;36m\u001b[0m\n\u001b[1;33m    2myvar = \"Dhru\"\u001b[0m\n\u001b[1;37m    ^\u001b[0m\n\u001b[1;31mSyntaxError\u001b[0m\u001b[1;31m:\u001b[0m invalid decimal literal\n"
     ]
    }
   ],
   "source": [
    "2myvar = \"Dhru\"\n",
    "my-var = \"Dhru\"\n",
    "my var = \"Dhru\""
   ]
  },
  {
   "cell_type": "code",
   "execution_count": null,
   "metadata": {},
   "outputs": [
    {
     "name": "stdout",
     "output_type": "stream",
     "text": [
      "Orange\n",
      "Banana\n",
      "Cherry\n"
     ]
    }
   ],
   "source": [
    "# Assign Multiple values\n",
    "x, y, z = \"Orange\", \"Banana\", \"Cherry\"\n",
    "print(x)\n",
    "print(y)\n",
    "print(z)"
   ]
  },
  {
   "cell_type": "code",
   "execution_count": null,
   "metadata": {},
   "outputs": [
    {
     "name": "stdout",
     "output_type": "stream",
     "text": [
      "Orange\n",
      "Orange\n",
      "Orange\n"
     ]
    }
   ],
   "source": [
    "#One Value to Multiple Variables\n",
    "x = y = z = \"Orange\"\n",
    "print(x)\n",
    "print(y)\n",
    "print(z)"
   ]
  },
  {
   "cell_type": "code",
   "execution_count": null,
   "metadata": {},
   "outputs": [
    {
     "name": "stdout",
     "output_type": "stream",
     "text": [
      "Greade C\n"
     ]
    }
   ],
   "source": [
    "accounts = int(34)\n",
    "Maths = int(65)\n",
    "Gujarati = int(75)\n",
    "English = int(85)\n",
    "\n",
    "\n",
    "if a :\n",
    "    print(\"Greade C\")\n",
    "elif a == 45:\n",
    "    print(\"Greade C\")\n",
    "else:\n",
    "    print(\"Marks are Up than 45\")\n"
   ]
  },
  {
   "cell_type": "code",
   "execution_count": null,
   "metadata": {},
   "outputs": [
    {
     "name": "stdout",
     "output_type": "stream",
     "text": [
      "years: 1\n",
      "months: 2\n"
     ]
    }
   ],
   "source": [
    "d = int(input(\"Enter the days: \"))\n",
    "\n",
    "years = int(d / 365)\n",
    "\n",
    "month = int(d % 365) // 30\n",
    "\n",
    "print(\"years:\",years)\n",
    "print(\"months:\",month)"
   ]
  },
  {
   "cell_type": "code",
   "execution_count": null,
   "metadata": {},
   "outputs": [
    {
     "name": "stdout",
     "output_type": "stream",
     "text": [
      "days: 730\n"
     ]
    }
   ],
   "source": [
    "y = int(input(\"input the year: \"))\n",
    "\n",
    "days = int(y * 365)\n",
    "print(\"days:\",days)"
   ]
  },
  {
   "cell_type": "code",
   "execution_count": null,
   "metadata": {},
   "outputs": [
    {
     "name": "stdout",
     "output_type": "stream",
     "text": [
      "year: 2024 - is a leap year\n"
     ]
    }
   ],
   "source": [
    "year = int(input(\"Enter the year: \"))\n",
    "\n",
    "if (year % 400 == 0) and (year % 100 == 0):\n",
    "    print(f\"year: {year} - is a leap year\")\n",
    "elif (year % 4 == 0):\n",
    "    print(f\"year: {year} - is a leap year\")\n",
    "else:\n",
    "    print(f\"year: {year} - is not a leap year\")"
   ]
  },
  {
   "cell_type": "code",
   "execution_count": null,
   "metadata": {},
   "outputs": [
    {
     "name": "stdout",
     "output_type": "stream",
     "text": [
      "Num 1= 500 Is Greatest\n"
     ]
    }
   ],
   "source": [
    "a = int(input(\"enter num 1: \"))\n",
    "b = int(input(\"enter num 2: \"))\n",
    "c = int(input(\"enter num 3: \"))\n",
    "\n",
    "if (a > b and a > c):\n",
    "    print(f\"Num 1= {a} Is Greatest\")\n",
    "elif(b > a and b > c):\n",
    "    print(f\"Num 2= {b} Is Greatest\")\n",
    "elif(c > b and c > a):\n",
    "    print(f\"Num 3= {c} Is Greatest\")\n",
    "else:\n",
    "    print(\"All numbers are same\")"
   ]
  },
  {
   "cell_type": "code",
   "execution_count": null,
   "metadata": {},
   "outputs": [
    {
     "name": "stdout",
     "output_type": "stream",
     "text": [
      "You have Successfully pass the exam\n"
     ]
    }
   ],
   "source": [
    "m1 = int(input(\"Enter marks of exam 1: \"))\n",
    "\n",
    "if (m1 >= 40):\n",
    "    m2 = int(input(\"Enter marks of exam 2: \"))\n",
    "    if (m2 >= 40):\n",
    "        m3 = int(input(\"Enter marks of exam 3: \"))\n",
    "        if (m3 >= 40):\n",
    "            m4 = int(input(\"Enter marks of exam 4: \"))\n",
    "            if (m4 >=55):\n",
    "                print(\"You have Successfully pass the exam\")\n",
    "            else:\n",
    "                print(\"Failed\")\n",
    "        else:\n",
    "            print(\"Failed\")    \n",
    "    else:\n",
    "        print(\"Failed\")\n",
    "else:\n",
    "    print(\"Failed\")"
   ]
  },
  {
   "cell_type": "code",
   "execution_count": 4,
   "metadata": {},
   "outputs": [
    {
     "name": "stdout",
     "output_type": "stream",
     "text": [
      "Failed\n"
     ]
    }
   ],
   "source": [
    "n1 = int(input(\"Enter marks of exam 1: \"))\n",
    "\n",
    "if (n1 >= 40):\n",
    "    n2 = int(input(\"Enter marks of exam 2: \"))\n",
    "    if (n2 >= 40):\n",
    "        n3 = int(input(\"Enter marks of exam 3: \"))\n",
    "        if (n3 >= 40):\n",
    "            n4 = int(input(\"Enter marks of exam 4: \"))\n",
    "            if (n4 >= 55):\n",
    "                print(\"You have successfully pass the exam\")\n",
    "        else:\n",
    "            print(\"Failed\")\n",
    "    else:\n",
    "        print(\"Failed\")\n",
    "else:\n",
    "    print(\"Failed\")"
   ]
  },
  {
   "cell_type": "code",
   "execution_count": null,
   "metadata": {},
   "outputs": [
    {
     "name": "stdout",
     "output_type": "stream",
     "text": [
      "percentage:  83.8\n",
      "A Grade\n"
     ]
    }
   ],
   "source": [
    "s1 = int(input(\"Enter marks 1: \"))\n",
    "s2 = int(input(\"Enter marks 2: \"))\n",
    "s3 = int(input(\"Enter marks 3: \"))\n",
    "s4 = int(input(\"Enter marks 4: \"))\n",
    "s5 = int(input(\"Enter marks 5: \"))\n",
    "\n",
    "per = ((s1+s2+s3+s4+s5)*100)/500\n",
    "\n",
    "print(\"percentage: \",per)\n",
    "\n",
    "if (per >= 40 and per <=60):\n",
    "    print(\"C grade\")\n",
    "elif (per >= 61 and per <= 80):\n",
    "    print(\"B Grade\")\n",
    "elif (per >= 81 and per <= 100):\n",
    "    print(\"A Grade\")\n",
    "else:\n",
    "    print(\"Failed\")"
   ]
  },
  {
   "cell_type": "code",
   "execution_count": null,
   "metadata": {},
   "outputs": [
    {
     "name": "stdout",
     "output_type": "stream",
     "text": [
      "Bye\n"
     ]
    }
   ],
   "source": [
    "num = int(input(\"Enter age: \"))\n",
    "\n",
    "if num % 5 == 0:\n",
    "    print(\"Hello\")\n",
    "else:\n",
    "    print(\"Bye\")\n"
   ]
  },
  {
   "cell_type": "code",
   "execution_count": null,
   "metadata": {},
   "outputs": [
    {
     "name": "stdout",
     "output_type": "stream",
     "text": [
      "Even Number\n"
     ]
    }
   ],
   "source": [
    "num = int(input(\"Enter a num: \"))\n",
    "\n",
    "if num % 2 == 0:\n",
    "    print(\"Even Number\")\n",
    "else:\n",
    "    print(\"Odd Number\")\n"
   ]
  },
  {
   "cell_type": "code",
   "execution_count": null,
   "metadata": {},
   "outputs": [
    {
     "name": "stdout",
     "output_type": "stream",
     "text": [
      "Num 2= 70 Is Largest\n"
     ]
    }
   ],
   "source": [
    "a = int(input(\"Enter num 1: \"))\n",
    "b = int(input(\"Enter num 2: \"))\n",
    "c = int(input(\"Enter num 3: \"))\n",
    "\n",
    "if (a > b and a > c):\n",
    "    print(f\"Num 1= {a} Is Largest\")\n",
    "elif (b > a and b > c):\n",
    "    print(f\"Num 2= {b} Is Largest\")\n",
    "elif (c > a and c > b):\n",
    "    print(f\"Num 3= {c} Is Largest\")\n",
    "else:\n",
    "    print(\"All numbers are same\")"
   ]
  },
  {
   "cell_type": "code",
   "execution_count": null,
   "metadata": {},
   "outputs": [
    {
     "name": "stdout",
     "output_type": "stream",
     "text": [
      "B is largest\n"
     ]
    }
   ],
   "source": [
    "a = int(input(\"Enter num 1: \"))\n",
    "b = int(input(\"Enter num 2: \"))\n",
    "c = int(input(\"Enter num 3: \"))\n",
    "\n",
    "if a>b:\n",
    "    if a>c:\n",
    "        print(\"A is largest\")\n",
    "    else:\n",
    "        print(\"C is largest\")\n",
    "else:\n",
    "    if b>c:\n",
    "        print(\"B is largest\")\n",
    "    else:\n",
    "        print(\"C is largest\")"
   ]
  },
  {
   "cell_type": "code",
   "execution_count": null,
   "metadata": {},
   "outputs": [
    {
     "name": "stdout",
     "output_type": "stream",
     "text": [
      "Num 2= 10 is smallest\n"
     ]
    }
   ],
   "source": [
    "a = int(input(\"Enter num 1: \"))\n",
    "b = int(input(\"Enter num 2: \"))\n",
    "c = int(input(\"Enter num 3: \"))\n",
    "\n",
    "if a < b:\n",
    "    if a < c:\n",
    "        print(f\"Num 1= {a} is smallest\")\n",
    "    else:\n",
    "        print(f\"Num 3= {c} is smallest\")\n",
    "else:\n",
    "    if b < c:\n",
    "        print(f\"Num 2= {b} is smallest\")\n",
    "    else:\n",
    "        print(f\"Num 3= {c} is smallest\")"
   ]
  },
  {
   "cell_type": "code",
   "execution_count": null,
   "metadata": {},
   "outputs": [
    {
     "name": "stdout",
     "output_type": "stream",
     "text": [
      "Hello\n",
      "Hello\n",
      "Hello\n",
      "Hello\n",
      "Hello\n",
      "Hello\n",
      "Hello\n",
      "Hello\n",
      "Hello\n",
      "Hello\n"
     ]
    }
   ],
   "source": [
    "for i in range(1,11):\n",
    "    print(\"Hello\")"
   ]
  },
  {
   "cell_type": "code",
   "execution_count": null,
   "metadata": {},
   "outputs": [
    {
     "name": "stdout",
     "output_type": "stream",
     "text": [
      "1 ) Hello\n",
      "2 ) Hello\n",
      "3 ) Hello\n",
      "4 ) Hello\n",
      "5 ) Hello\n",
      "6 ) Hello\n",
      "7 ) Hello\n",
      "8 ) Hello\n",
      "9 ) Hello\n",
      "10 ) Hello\n"
     ]
    }
   ],
   "source": [
    "for i in range(1,11):\n",
    "    print(i,\")\",\"Hello\")"
   ]
  },
  {
   "cell_type": "code",
   "execution_count": null,
   "metadata": {},
   "outputs": [
    {
     "name": "stdout",
     "output_type": "stream",
     "text": [
      "Tital used tiles:  98\n",
      "Left over tiles:  4\n"
     ]
    }
   ],
   "source": [
    "print(\"Tital used tiles: \",9*7 + 7*5)\n",
    "\n",
    "print(\"Left over tiles: \", 17*6 - (7*9 + 7*5))\n"
   ]
  },
  {
   "cell_type": "code",
   "execution_count": null,
   "metadata": {},
   "outputs": [
    {
     "name": "stdout",
     "output_type": "stream",
     "text": [
      "Average monthly electricity over the three months:  39.666666666666664\n"
     ]
    }
   ],
   "source": [
    "print(\"Average monthly electricity over the three months: \", (23 + 32 + 64)/3)"
   ]
  },
  {
   "cell_type": "code",
   "execution_count": null,
   "metadata": {},
   "outputs": [
    {
     "name": "stdout",
     "output_type": "stream",
     "text": [
      "5 * 1 = 5\n",
      "5 * 2 = 10\n",
      "5 * 3 = 15\n",
      "5 * 4 = 20\n",
      "5 * 5 = 25\n",
      "5 * 6 = 30\n",
      "5 * 7 = 35\n",
      "5 * 8 = 40\n",
      "5 * 9 = 45\n",
      "5 * 10 = 50\n"
     ]
    }
   ],
   "source": [
    "a = int(input(\"Enter num:\"))\n",
    "\n",
    "for i in range(1,11):\n",
    "    print(f\"{a} * {i} = {a*i}\")"
   ]
  },
  {
   "cell_type": "code",
   "execution_count": null,
   "metadata": {},
   "outputs": [
    {
     "name": "stdout",
     "output_type": "stream",
     "text": [
      "Even numbers in the list: 6\n",
      "Odd numbers in the list: 4\n",
      "Sum of even & odd numbers: 10\n"
     ]
    }
   ],
   "source": [
    "list1 = [12,15,18,23,54,55,98,63,100,86]\n",
    "\n",
    "even_n,odd_n = 0,0\n",
    "\n",
    "for num in list1:\n",
    "\n",
    "    if num % 2 == 0:\n",
    "        even_n += 1\n",
    "    else:\n",
    "        odd_n += 1\n",
    "\n",
    "print(\"Even numbers in the list:\",even_n)\n",
    "print(\"Odd numbers in the list:\", odd_n)\n",
    "\n",
    "print(\"Sum of even & odd numbers:\",even_n + odd_n)"
   ]
  },
  {
   "cell_type": "code",
   "execution_count": null,
   "metadata": {},
   "outputs": [
    {
     "name": "stdout",
     "output_type": "stream",
     "text": [
      "the 98.0 degree fehrenheit is equal to :36.0 celsius\n"
     ]
    }
   ],
   "source": [
    "Fahrenheit = float(input(\"Enter value in degree fahrenheit:\"))\n",
    "\n",
    "celsius = (Fahrenheit - 32) // 1.8\n",
    "\n",
    "print(f\"the {Fahrenheit} degree fehrenheit is equal to :{celsius} celsius\")"
   ]
  },
  {
   "cell_type": "code",
   "execution_count": null,
   "metadata": {},
   "outputs": [
    {
     "name": "stdout",
     "output_type": "stream",
     "text": [
      "the 98.0 degree fehrenheit is equal to :36.0 celsius\n"
     ]
    }
   ],
   "source": [
    "Fahrenheit = float(input(\"Enter value in degree fahrenheit:\"))\n",
    "\n",
    "celsius = (Fahrenheit - 32) * 5//9\n",
    "\n",
    "print(f\"the {Fahrenheit} degree fehrenheit is equal to :{celsius} celsius\")"
   ]
  },
  {
   "cell_type": "code",
   "execution_count": null,
   "metadata": {},
   "outputs": [
    {
     "name": "stdout",
     "output_type": "stream",
     "text": [
      "The area of a triangle using 10.0 and 34.0 = 170.0\n"
     ]
    }
   ],
   "source": [
    "base = float(input(\"Enter the base of the triangle:\"))\n",
    "height = float(input(\"Enter the height of the triangle:\"))\n",
    "\n",
    "area = (base * height) / 2\n",
    "\n",
    "print(\"The area of a triangle using\",base,\"and\",height,\"=\",area)"
   ]
  },
  {
   "cell_type": "code",
   "execution_count": null,
   "metadata": {},
   "outputs": [
    {
     "name": "stdout",
     "output_type": "stream",
     "text": [
      "length: 5.0\n",
      "breadth 10.0\n",
      "Area of rectangle:50.0 sq. units\n"
     ]
    }
   ],
   "source": [
    "length = float(input(\"Enter the wedth of the rectangle:\"))\n",
    "breadth = float(input(\"Enter the breadth of the rectangle:\"))\n",
    "\n",
    "area = length * breadth\n",
    "\n",
    "print(\"length:\",length)\n",
    "print(\"breadth\",breadth)\n",
    "print(f\"Area of rectangle:{area} sq. units\")"
   ]
  },
  {
   "cell_type": "code",
   "execution_count": null,
   "metadata": {},
   "outputs": [
    {
     "name": "stdout",
     "output_type": "stream",
     "text": [
      "The area of the circle with radius: 1.1 is 3.8013271108436504\n"
     ]
    }
   ],
   "source": [
    "from math import pi\n",
    "\n",
    "r = float(input(\"Enter the radius of the circle:\"))\n",
    "\n",
    "area = (pi * r ** 2)\n",
    "\n",
    "print(\"The area of the circle with radius:\",r, \"is\", area)"
   ]
  },
  {
   "attachments": {},
   "cell_type": "markdown",
   "metadata": {},
   "source": [
    "* While Loop"
   ]
  },
  {
   "cell_type": "code",
   "execution_count": null,
   "metadata": {},
   "outputs": [
    {
     "name": "stdout",
     "output_type": "stream",
     "text": [
      "1\n",
      "2\n",
      "3\n",
      "4\n",
      "5\n",
      "6\n",
      "7\n",
      "8\n",
      "9\n",
      "10\n"
     ]
    }
   ],
   "source": [
    "a = 1\n",
    "\n",
    "while a <= 10:\n",
    "    print(a)\n",
    "    a+=1"
   ]
  },
  {
   "cell_type": "code",
   "execution_count": null,
   "metadata": {},
   "outputs": [
    {
     "name": "stdout",
     "output_type": "stream",
     "text": [
      "1\n",
      "2\n",
      "3\n",
      "4\n",
      "5\n",
      "6\n",
      "7\n",
      "8\n",
      "9\n",
      "10\n",
      "11\n",
      "12\n"
     ]
    }
   ],
   "source": [
    "num = int(input(\"Enter number:\"))\n",
    "i=1\n",
    "\n",
    "while i <= num:\n",
    "    print(i)\n",
    "    i+=1"
   ]
  },
  {
   "cell_type": "code",
   "execution_count": 1,
   "metadata": {},
   "outputs": [
    {
     "name": "stdout",
     "output_type": "stream",
     "text": [
      "Apple\n",
      "Banana\n",
      "Mango\n"
     ]
    }
   ],
   "source": [
    "fruits = [\"Apple\", \"Banana\", \"Mango\"]\n",
    "x,y,z = fruits\n",
    "\n",
    "print(x)\n",
    "print(y)\n",
    "print(z)"
   ]
  },
  {
   "cell_type": "code",
   "execution_count": 4,
   "metadata": {},
   "outputs": [
    {
     "name": "stdout",
     "output_type": "stream",
     "text": [
      "python is Awesome\n"
     ]
    }
   ],
   "source": [
    "x = \"python\"\n",
    "y = \"is\"\n",
    "z = \"Awesome\"\n",
    "\n",
    "print(x,y,z)"
   ]
  },
  {
   "cell_type": "code",
   "execution_count": 7,
   "metadata": {},
   "outputs": [
    {
     "name": "stdout",
     "output_type": "stream",
     "text": [
      "python is Awesome\n"
     ]
    }
   ],
   "source": [
    "x = \"python \"\n",
    "y = \"is \"\n",
    "z = \"Awesome\"\n",
    "\n",
    "print(x + y + z)"
   ]
  },
  {
   "cell_type": "code",
   "execution_count": 9,
   "metadata": {},
   "outputs": [
    {
     "name": "stdout",
     "output_type": "stream",
     "text": [
      "7\n"
     ]
    }
   ],
   "source": [
    "x = 5\n",
    "y = 2\n",
    "\n",
    "print(x+y)"
   ]
  },
  {
   "cell_type": "code",
   "execution_count": 3,
   "metadata": {},
   "outputs": [
    {
     "name": "stdout",
     "output_type": "stream",
     "text": [
      "python is Awesome\n"
     ]
    }
   ],
   "source": [
    "x =\"Awesome\"\n",
    "\n",
    "def myfunc():\n",
    "    print(\"python is \" + x)\n",
    "\n",
    "myfunc()"
   ]
  },
  {
   "cell_type": "code",
   "execution_count": 7,
   "metadata": {},
   "outputs": [
    {
     "name": "stdout",
     "output_type": "stream",
     "text": [
      "python is fantastic\n",
      "python is Awesome\n"
     ]
    }
   ],
   "source": [
    "x = \"Awesome\"\n",
    "\n",
    "def myfunc():\n",
    "    x = \"fantastic\"\n",
    "    print(\"python is \" + x)\n",
    "\n",
    "myfunc()\n",
    "print(\"python is \" + x)"
   ]
  },
  {
   "cell_type": "code",
   "execution_count": 10,
   "metadata": {},
   "outputs": [
    {
     "name": "stdout",
     "output_type": "stream",
     "text": [
      "('dhrumil jay parth', ' jay')\n"
     ]
    }
   ],
   "source": [
    "h = \"dhrumil \"+ \"jay\" +  \" parth\" , \" jay\"\n",
    "print(h)"
   ]
  },
  {
   "cell_type": "code",
   "execution_count": 14,
   "metadata": {},
   "outputs": [
    {
     "name": "stdout",
     "output_type": "stream",
     "text": [
      "python is fantastic\n"
     ]
    }
   ],
   "source": [
    "def myfunc():\n",
    "    global x\n",
    "    x = \"fantastic\"\n",
    "\n",
    "myfunc()\n",
    "\n",
    "print(\"python is \" + x)"
   ]
  }
 ],
 "metadata": {
  "kernelspec": {
   "display_name": "Python 3",
   "language": "python",
   "name": "python3"
  },
  "language_info": {
   "codemirror_mode": {
    "name": "ipython",
    "version": 3
   },
   "file_extension": ".py",
   "mimetype": "text/x-python",
   "name": "python",
   "nbconvert_exporter": "python",
   "pygments_lexer": "ipython3",
   "version": "3.11.1"
  },
  "orig_nbformat": 4,
  "vscode": {
   "interpreter": {
    "hash": "6a50e9a017e9a7fbc47d6ba3bbf6c358afe4d19f2ce04f649d25da660f786838"
   }
  }
 },
 "nbformat": 4,
 "nbformat_minor": 2
}
