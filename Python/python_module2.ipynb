{
 "cells": [
  {
   "attachments": {},
   "cell_type": "markdown",
   "metadata": {},
   "source": [
    "* 1. Write a python program to sum of the first n positive integers.\n"
   ]
  },
  {
   "cell_type": "code",
   "execution_count": 3,
   "metadata": {},
   "outputs": [
    {
     "name": "stdout",
     "output_type": "stream",
     "text": [
      "28.0\n"
     ]
    }
   ],
   "source": [
    "n = 7 # or int(input(\"enter a number: \")) for find any sum of the first n positive integers\n",
    "sn = (n * (n + 1)) / 2\n",
    "print(sn)"
   ]
  },
  {
   "attachments": {},
   "cell_type": "markdown",
   "metadata": {},
   "source": [
    "* 2. Write a Python program to count occurrences of a substring in a string."
   ]
  },
  {
   "cell_type": "code",
   "execution_count": 30,
   "metadata": {},
   "outputs": [
    {
     "name": "stdout",
     "output_type": "stream",
     "text": [
      "Number of occurrences of substring:  3\n"
     ]
    }
   ],
   "source": [
    "str = 'Hello Krunal. Hello Ahmedabad. Hello Asus.'\n",
    "\n",
    "dl = 'Hello'\n",
    "\n",
    "c = str.count(dl)\n",
    "\n",
    "print(\"Number of occurrences of substring: \", c)"
   ]
  },
  {
   "attachments": {},
   "cell_type": "markdown",
   "metadata": {},
   "source": [
    "* 3. Write a Python program to count the occurrences of each word in a given sentence."
   ]
  },
  {
   "cell_type": "code",
   "execution_count": 7,
   "metadata": {},
   "outputs": [
    {
     "name": "stdout",
     "output_type": "stream",
     "text": [
      "{'the': 3, 'black': 1, 'cow': 1, 'running': 1, 'on': 1, 'bridge': 2, 'and': 1, 'vibrating': 1}\n"
     ]
    }
   ],
   "source": [
    "def wc(str):\n",
    "    c = dict()\n",
    "    w = str.split()\n",
    "\n",
    "    for word in w:\n",
    "        if word in c:\n",
    "            c[word] += 1\n",
    "        else:\n",
    "            c[word] = 1\n",
    "\n",
    "    return c\n",
    "print(wc('the black cow running on the bridge and vibrating the bridge'))            "
   ]
  },
  {
   "attachments": {},
   "cell_type": "markdown",
   "metadata": {},
   "source": [
    "* 4. Write a Python program to get a single string from two given strings, separated by a space and swap the first two characters of each string."
   ]
  },
  {
   "cell_type": "code",
   "execution_count": 8,
   "metadata": {},
   "outputs": [
    {
     "name": "stdout",
     "output_type": "stream",
     "text": [
      "xyc abz\n"
     ]
    }
   ],
   "source": [
    "def ct(a,b):\n",
    "    a2 = b[:2] + a[2:]\n",
    "    b2 = a[:2] + b[2:]\n",
    "\n",
    "    return a2 + ' ' + b2\n",
    "print(ct('abc', 'xyz'))"
   ]
  },
  {
   "attachments": {},
   "cell_type": "markdown",
   "metadata": {},
   "source": [
    "* 5. Write a Python program to add 'ing' at the end of a given string (length should be at least 3).\n",
    "If the given string already ends with 'ing' then add 'ly' instead If the string length of the given string is less than 3, leave it unchanged"
   ]
  },
  {
   "cell_type": "code",
   "execution_count": 10,
   "metadata": {},
   "outputs": [
    {
     "name": "stdout",
     "output_type": "stream",
     "text": [
      "xy\n",
      "crying\n",
      "jumpingly\n"
     ]
    }
   ],
   "source": [
    "def ast(str1):\n",
    "    length = len(str1)\n",
    "\n",
    "    if length > 2:\n",
    "        if str1[-3:] =='ing':\n",
    "          str1 +='ly'\n",
    "        else:\n",
    "            str1 += 'ing'\n",
    "\n",
    "    return str1\n",
    "print(ast('xy'))\n",
    "print(ast('cry'))\n",
    "print(ast('jumping'))"
   ]
  },
  {
   "attachments": {},
   "cell_type": "markdown",
   "metadata": {},
   "source": [
    "+ 6. Write a Python program to find the first appearance of the substring 'not' and 'poor' from a given string, if 'not' follows the 'poor', replace the whole 'not'...'poor' substring with 'good'. Return the resulting string"
   ]
  },
  {
   "cell_type": "code",
   "execution_count": 11,
   "metadata": {},
   "outputs": [
    {
     "name": "stdout",
     "output_type": "stream",
     "text": [
      "the lyrics is good!\n",
      "the lyrics is poor!\n"
     ]
    }
   ],
   "source": [
    "def npo(str1):\n",
    "    not2 = str1.find('not')\n",
    "    poor2 = str1.find('poor')\n",
    "\n",
    "    if poor2 > not2 and not2>0 and poor2>0:\n",
    "        str1 = str1.replace(str1[not2:(poor2+4)], 'good')\n",
    "        return str1\n",
    "    else:\n",
    "        return str1\n",
    "print(npo('the lyrics is not that poor!'))            \n",
    "print(npo('the lyrics is poor!'))\n"
   ]
  },
  {
   "attachments": {},
   "cell_type": "markdown",
   "metadata": {},
   "source": [
    "* 7. Program to find Greatest Common Divisor of two numbers.\n",
    "For example, the GCD of 20 and 28 is 4 and GCD of 98 and 56 is 14."
   ]
  },
  {
   "cell_type": "code",
   "execution_count": 2,
   "metadata": {},
   "outputs": [
    {
     "name": "stdout",
     "output_type": "stream",
     "text": [
      "gcd of 20 and 28 is 4\n"
     ]
    }
   ],
   "source": [
    "def gcd(a,  b):\n",
    "    result = min(a, b)\n",
    "\n",
    "    while result:\n",
    "        if a % result == 0 and b % result == 0:\n",
    "            break\n",
    "        result -= 1\n",
    "\n",
    "    return result\n",
    "\n",
    "a = 20\n",
    "b = 28\n",
    "\n",
    "print(f\"gcd of {a} and {b} is {gcd(a, b)}\")"
   ]
  },
  {
   "cell_type": "code",
   "execution_count": 6,
   "metadata": {},
   "outputs": [
    {
     "name": "stdout",
     "output_type": "stream",
     "text": [
      "gcd of 98 and 56 is 14\n"
     ]
    }
   ],
   "source": [
    "def gcd(a,  b):\n",
    "    result = min(a, b)\n",
    "\n",
    "    while result:\n",
    "        if a % result == 0 and b % result == 0:\n",
    "            break\n",
    "        result -= 1\n",
    "\n",
    "    return result\n",
    "\n",
    "a = 98\n",
    "b = 56\n",
    "\n",
    "print(f\"gcd of {a} and {b} is {gcd(a, b)}\")"
   ]
  },
  {
   "attachments": {},
   "cell_type": "markdown",
   "metadata": {},
   "source": [
    "* 8. Write a Python program to check whether a list contains a sublist."
   ]
  },
  {
   "cell_type": "code",
   "execution_count": 12,
   "metadata": {},
   "outputs": [
    {
     "name": "stdout",
     "output_type": "stream",
     "text": [
      "True\n",
      "False\n"
     ]
    }
   ],
   "source": [
    "def isbl(l, s):\n",
    "    sub_set = False\n",
    "    if s == []:\n",
    "        sub_set = True\n",
    "    elif s == l:\n",
    "        sub_set = True\n",
    "    elif len(s) > len(l):\n",
    "        sub_set = False\n",
    "\n",
    "    else:\n",
    "        for i in range(len(l)):\n",
    "            if l[i] == s[0]:\n",
    "                n =1\n",
    "                while (n < len(s)) and (l[i+n] == s[n]):\n",
    "                    n += 1\n",
    "\n",
    "                    if n == len(s):\n",
    "                        sub_set = True\n",
    "\n",
    "\n",
    "    return sub_set\n",
    "\n",
    "a = [2,4,3,5,7]\n",
    "b = [4,3]\n",
    "c = [3,7]\n",
    "print(isbl(a, b))\n",
    "print(isbl(a, c))"
   ]
  },
  {
   "attachments": {},
   "cell_type": "markdown",
   "metadata": {},
   "source": [
    "* 9. Write a Python program to find the second smallest number in a list."
   ]
  },
  {
   "cell_type": "code",
   "execution_count": 14,
   "metadata": {},
   "outputs": [
    {
     "name": "stdout",
     "output_type": "stream",
     "text": [
      "-2\n",
      "0\n",
      "0\n",
      "None\n",
      "None\n"
     ]
    }
   ],
   "source": [
    "def small2(numbers):\n",
    "    if (len(numbers)<2):\n",
    "        return\n",
    "    if ((len(numbers)==2) and (numbers[0] == numbers[1])):\n",
    "        return\n",
    "    di = set()\n",
    "    ui = []    \n",
    "    for x in numbers:\n",
    "        if x not in di:\n",
    "            ui.append(x)\n",
    "            di.add(x)\n",
    "    ui.sort()\n",
    "    return ui[1]\n",
    "\n",
    "print(small2([1, 2, -8, -2, 0, -2]))\n",
    "print(small2([1, 1, 0, 0, 2, -2, -2]))\n",
    "print(small2([1, 1, 1, 0, 0, 0, 2, -2, -2]))\n",
    "print(small2([2,2]))\n",
    "print(small2([2]))"
   ]
  },
  {
   "attachments": {},
   "cell_type": "markdown",
   "metadata": {},
   "source": [
    "* 10. Write a Python program to get unique values from a list."
   ]
  },
  {
   "cell_type": "code",
   "execution_count": 26,
   "metadata": {},
   "outputs": [
    {
     "name": "stdout",
     "output_type": "stream",
     "text": [
      "original list:  [10, 20, 30, 40, 20, 50, 60, 40]\n",
      "list of unique numbers:  [40, 10, 50, 20, 60, 30]\n"
     ]
    }
   ],
   "source": [
    "list2 = [10, 20, 30, 40, 20, 50, 60, 40]\n",
    "print(\"original list: \", list2)\n",
    "set2 = set(list2)\n",
    "new_list2 = list(set2)\n",
    "print(\"list of unique numbers: \", new_list2)"
   ]
  },
  {
   "attachments": {},
   "cell_type": "markdown",
   "metadata": {},
   "source": [
    "* 11. Write a Python program to unzip a list of tuples into individual lists."
   ]
  },
  {
   "cell_type": "code",
   "execution_count": 29,
   "metadata": {},
   "outputs": [
    {
     "name": "stdout",
     "output_type": "stream",
     "text": [
      "[(1, 3, 8), (2, 4, 9)]\n"
     ]
    }
   ],
   "source": [
    "d = [(1,2), (3,4), (8,9)]\n",
    "print(list(zip(*d)))"
   ]
  },
  {
   "attachments": {},
   "cell_type": "markdown",
   "metadata": {},
   "source": [
    "* 12. Write a Python program to convert a list of tuples into a dictionary"
   ]
  },
  {
   "cell_type": "code",
   "execution_count": 31,
   "metadata": {},
   "outputs": [
    {
     "name": "stdout",
     "output_type": "stream",
     "text": [
      "{'x': [1, 2, 3], 'y': [4, 5], 'z': [6, 7, 8]}\n"
     ]
    }
   ],
   "source": [
    "c = [(\"x\", 1), (\"y\", 4), (\"y\", 5), (\"x\", 2), (\"z\", 6), (\"x\", 3), (\"z\", 7), (\"z\", 8)]\n",
    "d = {}\n",
    "for a, b in c:\n",
    "    d.setdefault(a, []).append(b)\n",
    "print(d)    "
   ]
  },
  {
   "attachments": {},
   "cell_type": "markdown",
   "metadata": {},
   "source": [
    "* 13. Write a Python program to sort a dictionary (ascending /descending) by value."
   ]
  },
  {
   "cell_type": "code",
   "execution_count": 2,
   "metadata": {},
   "outputs": [
    {
     "name": "stdout",
     "output_type": "stream",
     "text": [
      "original dictionary:  {4: 3, 2: 1, 1: 2, 3: 4, 0: 0}\n",
      "dictionary in ascending order by value:  [(0, 0), (2, 1), (1, 2), (4, 3), (3, 4)]\n",
      "dictionary in descendig order by value:  {3: 4, 4: 3, 1: 2, 2: 1, 0: 0}\n"
     ]
    }
   ],
   "source": [
    "import operator\n",
    "d = {4: 3, 2: 1, 1: 2, 3: 4, 0: 0}\n",
    "print('original dictionary: ', d)\n",
    "sorted_d = sorted(d.items(), key=operator.itemgetter(1))\n",
    "print('dictionary in ascending order by value: ',sorted_d)\n",
    "sorted_d = dict(sorted(d.items(), key=operator.itemgetter(1),reverse=True))\n",
    "print('dictionary in descendig order by value: ', sorted_d)"
   ]
  },
  {
   "attachments": {},
   "cell_type": "markdown",
   "metadata": {},
   "source": [
    "* 14. Write a Python program to find the highest 3 values in a dictionary."
   ]
  },
  {
   "cell_type": "code",
   "execution_count": 17,
   "metadata": {},
   "outputs": [
    {
     "name": "stdout",
     "output_type": "stream",
     "text": [
      "['f', 'c', 'd']\n"
     ]
    }
   ],
   "source": [
    "from heapq import nlargest\n",
    "d = {'a': 500, 'b': 1000, 'c': 2000, 'd': 1500, 'e': 400, 'f': 2500}\n",
    "l = nlargest(3, d, key = d.get)\n",
    "print(l)"
   ]
  },
  {
   "attachments": {},
   "cell_type": "markdown",
   "metadata": {},
   "source": [
    "* 15. Given a number n, write a python program to make and print the list of Fibonacci series up to n.\n",
    "Input : n=7 \n",
    "Hint : first 7 numbers in the series\n",
    "Expected output : \n",
    "First few Fibonacci numbers are 0, 1, 1, 2, 3, 5, 8, 13"
   ]
  },
  {
   "cell_type": "code",
   "execution_count": 18,
   "metadata": {},
   "outputs": [
    {
     "name": "stdout",
     "output_type": "stream",
     "text": [
      "0 1 1 2 3 5 8 "
     ]
    }
   ],
   "source": [
    "n = 7\n",
    "l1, l2 = 0, 1\n",
    "if n == 1:\n",
    "    print(l1)\n",
    "elif n == 2:\n",
    "    print(l1, l2)\n",
    "else:\n",
    "    print(l1, l2, end = \" \")\n",
    "    for i in range(3, n+1):\n",
    "        l3 = l1 + l2\n",
    "        print(l3, end = \" \")\n",
    "        l1 = l2\n",
    "        l2 = l3\n"
   ]
  },
  {
   "attachments": {},
   "cell_type": "markdown",
   "metadata": {},
   "source": [
    "* 16. Counting the frequencies in a list using a dictionary in Python.\n",
    "Input : [1, 1, 1, 5, 5, 3, 1, 3, 3, 1,4, 4, 4, 2, 2, 2, 2]\n",
    "Expected output : 1 : 5 , 2 : 4 , 3 : 3 , 4 : 3 , 5 : 2"
   ]
  },
  {
   "cell_type": "code",
   "execution_count": 20,
   "metadata": {},
   "outputs": [
    {
     "name": "stdout",
     "output_type": "stream",
     "text": [
      "{1: 5, 2: 4, 3: 3, 4: 3, 5: 2}\n"
     ]
    }
   ],
   "source": [
    "def CountFreq(li):\n",
    "    freq = {}\n",
    "    for item in li: \n",
    "        if (item in freq):\n",
    "            freq[item] += 1\n",
    "        else:\n",
    "            freq[item] = 1\n",
    "    print(freq) \n",
    "li =[1, 1, 1, 2, 2, 3, 1, 3, 3, 1, 4, 4, 4, 2, 2, 5, 5]\n",
    "CountFreq(li)"
   ]
  },
  {
   "attachments": {},
   "cell_type": "markdown",
   "metadata": {},
   "source": [
    "* 17. Write a python program using function to find the sum of odd series and even series\n",
    "Odd series: 12/ 1! + 32/ 3! + 52/ 5!+……n \n",
    "Even series: 22/ 2! + 42/ 4! + 62/ 6!+……n"
   ]
  },
  {
   "cell_type": "code",
   "execution_count": 22,
   "metadata": {},
   "outputs": [
    {
     "name": "stdout",
     "output_type": "stream",
     "text": [
      "sum of even numbers is:  12\n",
      "sum of odd numbers is:  9\n"
     ]
    }
   ],
   "source": [
    "n = 7\n",
    "\n",
    "even2=0\n",
    "odd2=0\n",
    "\n",
    "x=1\n",
    "while x<n:\n",
    "    if x%2==0:\n",
    "        even2+=x\n",
    "    else:\n",
    "        odd2+=x\n",
    "    x=x+1\n",
    "\n",
    "print(\"sum of even numbers is: \",even2)    \n",
    "print(\"sum of odd numbers is: \",odd2)"
   ]
  },
  {
   "attachments": {},
   "cell_type": "markdown",
   "metadata": {},
   "source": [
    "* 18. Python Program to Find Factorial of Number Using Recursion"
   ]
  },
  {
   "cell_type": "code",
   "execution_count": 29,
   "metadata": {},
   "outputs": [
    {
     "name": "stdout",
     "output_type": "stream",
     "text": [
      "The factorial of 5 is 120\n"
     ]
    }
   ],
   "source": [
    "def fact(n):\n",
    "   if n == 1:\n",
    "       return n\n",
    "   else:\n",
    "       return n*fact(n-1)\n",
    "\n",
    "n = 5\n",
    "\n",
    "if n < 0:\n",
    "   print(\"Sorry, factorial does not exist for negative numbers\")\n",
    "elif n == 0:\n",
    "   print(\"The factorial of 0 is 1\")\n",
    "else:\n",
    "   print(\"The factorial of\", n, \"is\", fact(n))"
   ]
  },
  {
   "attachments": {},
   "cell_type": "markdown",
   "metadata": {},
   "source": [
    "* 19. Write a Python function that takes a list and returns a new list with unique elements of the first list."
   ]
  },
  {
   "cell_type": "code",
   "execution_count": 19,
   "metadata": {},
   "outputs": [
    {
     "name": "stdout",
     "output_type": "stream",
     "text": [
      "[1, 2, 3, 4, 5]\n"
     ]
    }
   ],
   "source": [
    "def list(l):\n",
    "    x = []\n",
    "    for a in l:\n",
    "        if a not in x:\n",
    "            x.append(a)\n",
    "    return x\n",
    "\n",
    "print(list([1,1,2,2,2,3,3,3,4,4,5,5]))"
   ]
  },
  {
   "attachments": {},
   "cell_type": "markdown",
   "metadata": {},
   "source": [
    "* 20. Mini project :\n",
    "Problem Statement : Password Generator \n",
    "Make a program to generate a strong password using the input given by the user. To generate a password, \n",
    "randomly take some words from the user input and then include numbers, special characters and capital \n",
    "letters to generate the password. Also, keep a check that password length is more than 8 characters. \n",
    "Note: Include Exception handling wherever required. Also, make a ‘User’ class and store the details like user \n",
    "id, name and password of each user as a tuple."
   ]
  },
  {
   "cell_type": "code",
   "execution_count": 14,
   "metadata": {},
   "outputs": [
    {
     "name": "stdout",
     "output_type": "stream",
     "text": [
      "i4Np2c@D\n"
     ]
    }
   ],
   "source": [
    "import random\n",
    "import array\n",
    "\n",
    "max_len = 8\n",
    "\n",
    "digits = ['0','1','2','3','4','5','6','7','8','9']\n",
    "locase_characters = ['a', 'b', 'c', 'd', 'e', 'f', 'g', 'h',\n",
    "                     'i', 'j', 'k', 'm', 'n', 'o', 'p', 'q',\n",
    "                     'r', 's', 't', 'u', 'v', 'w', 'x', 'y',\n",
    "                     'z']\n",
    "upcase_characters = ['A', 'B', 'C', 'D', 'E', 'F', 'G', 'H',\n",
    "                     'I', 'J', 'K', 'M', 'N', 'O', 'P', 'Q',\n",
    "                     'R', 'S', 'T', 'U', 'V', 'W', 'X', 'Y',\n",
    "                     'Z']\n",
    "symbols = ['@','#','%','&']\n",
    "\n",
    "combined_list = digits + upcase_characters + locase_characters + symbols\n",
    "\n",
    "rand_digit = random.choice(digits)\n",
    "rand_upper = random.choice(upcase_characters)\n",
    "rand_lower = random.choice(locase_characters)\n",
    "rand_symbol = random.choice(symbols)\n",
    "\n",
    "temp_pass = rand_digit + rand_upper + rand_lower + rand_symbol\n",
    "\n",
    "for x in range(max_len - 4):\n",
    "    temp_pass = temp_pass + random.choice(combined_list)\n",
    "\n",
    "\n",
    "    temp_pass_list = array.array('u', temp_pass)\n",
    "    random.shuffle(temp_pass_list)\n",
    "\n",
    "    password = \"\"\n",
    "\n",
    "for x in temp_pass_list:\n",
    "    password = password + x\n",
    "\n",
    "\n",
    "print(password)    "
   ]
  },
  {
   "cell_type": "code",
   "execution_count": null,
   "metadata": {},
   "outputs": [],
   "source": []
  }
 ],
 "metadata": {
  "kernelspec": {
   "display_name": "Python 3",
   "language": "python",
   "name": "python3"
  },
  "language_info": {
   "codemirror_mode": {
    "name": "ipython",
    "version": 3
   },
   "file_extension": ".py",
   "mimetype": "text/x-python",
   "name": "python",
   "nbconvert_exporter": "python",
   "pygments_lexer": "ipython3",
   "version": "3.11.1"
  },
  "orig_nbformat": 4,
  "vscode": {
   "interpreter": {
    "hash": "6a50e9a017e9a7fbc47d6ba3bbf6c358afe4d19f2ce04f649d25da660f786838"
   }
  }
 },
 "nbformat": 4,
 "nbformat_minor": 2
}
